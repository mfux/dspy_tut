{
 "cells": [
  {
   "cell_type": "markdown",
   "id": "84d2dc4f",
   "metadata": {},
   "source": [
    "# Inspect synthea dataset"
   ]
  },
  {
   "cell_type": "code",
   "execution_count": null,
   "id": "2acfc372",
   "metadata": {},
   "outputs": [],
   "source": [
    "from pathlib import Path\n",
    "import pandas as pd\n",
    "from dotenv import load_dotenv\n",
    "import json\n",
    "assert(load_dotenv())"
   ]
  },
  {
   "cell_type": "markdown",
   "id": "d46dc619",
   "metadata": {
    "vscode": {
     "languageId": "plaintext"
    }
   },
   "source": [
    "Load Synthea Data"
   ]
  },
  {
   "cell_type": "code",
   "execution_count": null,
   "id": "a0cbd871",
   "metadata": {},
   "outputs": [],
   "source": [
    "data_dir = Path(\"data/synthea\")\n",
    "dataframes = {}\n",
    "\n",
    "for csv_file in data_dir.glob(\"*.csv\"):\n",
    "    key = csv_file.stem  # filename without .csv\n",
    "    df = pd.read_csv(csv_file, header=0)\n",
    "    dataframes[key] = df\n",
    "\n",
    "# write human readable jsons for each dataframe to data/synthea/sample_structure.md\n",
    "with open(\"data/synthea/sample_structure.md\", \"w\", encoding=\"utf-8\") as f:\n",
    "    for key, df in dataframes.items():\n",
    "        if df.empty:\n",
    "            continue\n",
    "        f.write(f\"## {key}\\n\\n\")\n",
    "        f.write(f\"```json\\n{json.dumps(df.iloc[0].to_dict(), indent=2, ensure_ascii=False)}\\n```\")\n",
    "        f.write(\"\\n\\n\")\n",
    "\n",
    "\n",
    "for key, df in dataframes.items():\n",
    "    print(f\"{key}:\\t{sorted(df.columns.tolist())}\")\n"
   ]
  },
  {
   "cell_type": "code",
   "execution_count": null,
   "id": "04acd366",
   "metadata": {},
   "outputs": [],
   "source": [
    "# check if all patient ids occour in the allergies table\n",
    "all_patient_ids = set(dataframes[\"patients\"][\"Id\"])\n",
    "allergy_patient_ids = set(dataframes[\"allergies\"][\"PATIENT\"])\n",
    "print(f\"all allergy patient ids in patients table?: {allergy_patient_ids.issubset(all_patient_ids)}\")\n",
    "print(f\"all patient ids in allergies table?: {all_patient_ids.issubset(allergy_patient_ids)}\")\n",
    "print(f\"Percentage of patients that have an allergy?: {len(allergy_patient_ids) / len(all_patient_ids) * 100:.2f}%\")\n"
   ]
  },
  {
   "cell_type": "code",
   "execution_count": null,
   "id": "ba3c9c66",
   "metadata": {},
   "outputs": [],
   "source": [
    "# which tables have patient ids\n",
    "patient_id_tables = [key for key, df in dataframes.items() if \"PATIENT\" in df.columns]\n",
    "print(f\"Tables with patient IDs: {patient_id_tables}\")\n",
    "print(f\"tables with patient id and no encounter id: {[key for key, df in dataframes.items() if 'PATIENT' in df.columns and 'ENCOUNTER' not in df.columns]}\")\n",
    "\n",
    "# are there patients that are associated to multiple encounters?\n",
    "encounter_patient_ids = dataframes[\"encounters\"][\"PATIENT\"]\n",
    "print(f\"are there patients that are associated to multiple encounters?: {len(encounter_patient_ids) > len(set(encounter_patient_ids))}\")"
   ]
  },
  {
   "cell_type": "code",
   "execution_count": null,
   "id": "d89bdd2a",
   "metadata": {},
   "outputs": [],
   "source": [
    "patients = dataframes[\"patients\"]\n",
    "patient = patients.sample()\n",
    "print(patient.to_dict())"
   ]
  },
  {
   "cell_type": "code",
   "execution_count": null,
   "id": "48ec67b6",
   "metadata": {},
   "outputs": [],
   "source": [
    "# print 5 sample values for each column in encounters\n",
    "encounter_df = dataframes[\"encounters\"]\n",
    "\n",
    "print(\"Encounters Table - Sample Values:\\n\")\n",
    "print(\"=\" * 80)\n",
    "\n",
    "for col in encounter_df.columns:\n",
    "    print(f\"\\n{col}:\")\n",
    "    samples = encounter_df[col].head(10).tolist()\n",
    "    for i, value in enumerate(samples, 1):\n",
    "        print(f\"  {i}. {value}\")\n"
   ]
  },
  {
   "cell_type": "code",
   "execution_count": null,
   "id": "518e90c2",
   "metadata": {},
   "outputs": [],
   "source": [
    "# list all tables that do have a colum \"ENCOUNTER\"\n",
    "tables_with_encounter = [name for name, df in dataframes.items() if \"ENCOUNTER\" in df.columns]\n",
    "print(tables_with_encounter)"
   ]
  }
 ],
 "metadata": {
  "kernelspec": {
   "display_name": ".venv",
   "language": "python",
   "name": "python3"
  },
  "language_info": {
   "codemirror_mode": {
    "name": "ipython",
    "version": 3
   },
   "file_extension": ".py",
   "mimetype": "text/x-python",
   "name": "python",
   "nbconvert_exporter": "python",
   "pygments_lexer": "ipython3",
   "version": "3.13.7"
  }
 },
 "nbformat": 4,
 "nbformat_minor": 5
}
