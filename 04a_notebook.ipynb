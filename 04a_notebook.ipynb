{
 "cells": [
  {
   "cell_type": "markdown",
   "id": "84d2dc4f",
   "metadata": {},
   "source": [
    "# Inspect synthea dataset"
   ]
  },
  {
   "cell_type": "code",
   "execution_count": 1,
   "id": "2acfc372",
   "metadata": {},
   "outputs": [],
   "source": [
    "from pathlib import Path\n",
    "import pandas as pd\n",
    "from dotenv import load_dotenv\n",
    "import json\n",
    "assert(load_dotenv())\n",
    "\n"
   ]
  },
  {
   "cell_type": "markdown",
   "id": "d46dc619",
   "metadata": {
    "vscode": {
     "languageId": "plaintext"
    }
   },
   "source": [
    "Load Synthea Data"
   ]
  },
  {
   "cell_type": "code",
   "execution_count": 2,
   "id": "a0cbd871",
   "metadata": {},
   "outputs": [
    {
     "name": "stdout",
     "output_type": "stream",
     "text": [
      "allergies:\t['CODE', 'DESCRIPTION', 'ENCOUNTER', 'PATIENT', 'START', 'STOP']\n",
      "careplans:\t['CODE', 'DESCRIPTION', 'ENCOUNTER', 'Id', 'PATIENT', 'REASONCODE', 'REASONDESCRIPTION', 'START', 'STOP']\n",
      "conditions:\t['CODE', 'DESCRIPTION', 'ENCOUNTER', 'PATIENT', 'START', 'STOP']\n",
      "devices:\t['CODE', 'DESCRIPTION', 'ENCOUNTER', 'PATIENT', 'START', 'STOP', 'UDI']\n",
      "encounters:\t['BASE_ENCOUNTER_COST', 'CODE', 'DESCRIPTION', 'ENCOUNTERCLASS', 'Id', 'ORGANIZATION', 'PATIENT', 'PAYER', 'PAYER_COVERAGE', 'PROVIDER', 'REASONCODE', 'REASONDESCRIPTION', 'START', 'STOP', 'TOTAL_CLAIM_COST']\n",
      "imaging_studies:\t['BODYSITE_CODE', 'BODYSITE_DESCRIPTION', 'DATE', 'ENCOUNTER', 'Id', 'MODALITY_CODE', 'MODALITY_DESCRIPTION', 'PATIENT', 'SOP_CODE', 'SOP_DESCRIPTION']\n",
      "immunizations:\t['BASE_COST', 'CODE', 'DATE', 'DESCRIPTION', 'ENCOUNTER', 'PATIENT']\n",
      "medications:\t['BASE_COST', 'CODE', 'DESCRIPTION', 'DISPENSES', 'ENCOUNTER', 'PATIENT', 'PAYER', 'PAYER_COVERAGE', 'REASONCODE', 'REASONDESCRIPTION', 'START', 'STOP', 'TOTALCOST']\n",
      "observations:\t['CODE', 'DATE', 'DESCRIPTION', 'ENCOUNTER', 'PATIENT', 'TYPE', 'UNITS', 'VALUE']\n",
      "organizations:\t['ADDRESS', 'CITY', 'Id', 'LAT', 'LON', 'NAME', 'PHONE', 'REVENUE', 'STATE', 'UTILIZATION', 'ZIP']\n",
      "patients:\t['ADDRESS', 'BIRTHDATE', 'BIRTHPLACE', 'CITY', 'COUNTY', 'DEATHDATE', 'DRIVERS', 'ETHNICITY', 'FIRST', 'GENDER', 'HEALTHCARE_COVERAGE', 'HEALTHCARE_EXPENSES', 'Id', 'LAST', 'LAT', 'LON', 'MAIDEN', 'MARITAL', 'PASSPORT', 'PREFIX', 'RACE', 'SSN', 'STATE', 'SUFFIX', 'ZIP']\n",
      "payers:\t['ADDRESS', 'AMOUNT_COVERED', 'AMOUNT_UNCOVERED', 'CITY', 'COVERED_ENCOUNTERS', 'COVERED_IMMUNIZATIONS', 'COVERED_MEDICATIONS', 'COVERED_PROCEDURES', 'Id', 'MEMBER_MONTHS', 'NAME', 'PHONE', 'QOLS_AVG', 'REVENUE', 'STATE_HEADQUARTERED', 'UNCOVERED_ENCOUNTERS', 'UNCOVERED_IMMUNIZATIONS', 'UNCOVERED_MEDICATIONS', 'UNCOVERED_PROCEDURES', 'UNIQUE_CUSTOMERS', 'ZIP']\n",
      "payer_transitions:\t['END_YEAR', 'OWNERSHIP', 'PATIENT', 'PAYER', 'START_YEAR']\n",
      "procedures:\t['BASE_COST', 'CODE', 'DATE', 'DESCRIPTION', 'ENCOUNTER', 'PATIENT', 'REASONCODE', 'REASONDESCRIPTION']\n",
      "providers:\t['ADDRESS', 'CITY', 'GENDER', 'Id', 'LAT', 'LON', 'NAME', 'ORGANIZATION', 'SPECIALITY', 'STATE', 'UTILIZATION', 'ZIP']\n",
      "supplies:\t['CODE', 'DATE', 'DESCRIPTION', 'ENCOUNTER', 'PATIENT', 'QUANTITY']\n"
     ]
    }
   ],
   "source": [
    "data_dir = Path(\"data/synthea\")\n",
    "dataframes = {}\n",
    "\n",
    "for csv_file in data_dir.glob(\"*.csv\"):\n",
    "    key = csv_file.stem  # filename without .csv\n",
    "    df = pd.read_csv(csv_file, header=0)\n",
    "    dataframes[key] = df\n",
    "\n",
    "# write human readable jsons for each dataframe to data/synthea/sample_structure.md\n",
    "with open(\"data/synthea/sample_structure.md\", \"w\", encoding=\"utf-8\") as f:\n",
    "    for key, df in dataframes.items():\n",
    "        if df.empty:\n",
    "            continue\n",
    "        f.write(f\"## {key}\\n\\n\")\n",
    "        f.write(f\"```json\\n{json.dumps(df.iloc[0].to_dict(), indent=2, ensure_ascii=False)}\\n```\")\n",
    "        f.write(\"\\n\\n\")\n",
    "\n",
    "\n",
    "for key, df in dataframes.items():\n",
    "    print(f\"{key}:\\t{sorted(df.columns.tolist())}\")\n"
   ]
  },
  {
   "cell_type": "code",
   "execution_count": 3,
   "id": "04acd366",
   "metadata": {},
   "outputs": [
    {
     "name": "stdout",
     "output_type": "stream",
     "text": [
      "all allergy patient ids in patients table?: True\n",
      "all patient ids in allergies table?: False\n",
      "Percentage of patients that have an allergy?: 12.04%\n"
     ]
    }
   ],
   "source": [
    "# check if all patient ids occour in the allergies table\n",
    "all_patient_ids = set(dataframes[\"patients\"][\"Id\"])\n",
    "allergy_patient_ids = set(dataframes[\"allergies\"][\"PATIENT\"])\n",
    "print(f\"all allergy patient ids in patients table?: {allergy_patient_ids.issubset(all_patient_ids)}\")\n",
    "print(f\"all patient ids in allergies table?: {all_patient_ids.issubset(allergy_patient_ids)}\")\n",
    "print(f\"Percentage of patients that have an allergy?: {len(allergy_patient_ids) / len(all_patient_ids) * 100:.2f}%\")\n"
   ]
  },
  {
   "cell_type": "code",
   "execution_count": 4,
   "id": "ba3c9c66",
   "metadata": {},
   "outputs": [
    {
     "name": "stdout",
     "output_type": "stream",
     "text": [
      "Tables with patient IDs: ['allergies', 'careplans', 'conditions', 'devices', 'encounters', 'imaging_studies', 'immunizations', 'medications', 'observations', 'payer_transitions', 'procedures', 'supplies']\n",
      "tables with patient id and no encounter id: ['encounters', 'payer_transitions']\n",
      "are there patients that are associated to multiple encounters?: True\n"
     ]
    }
   ],
   "source": [
    "# which tables have patient ids\n",
    "patient_id_tables = [key for key, df in dataframes.items() if \"PATIENT\" in df.columns]\n",
    "print(f\"Tables with patient IDs: {patient_id_tables}\")\n",
    "print(f\"tables with patient id and no encounter id: {[key for key, df in dataframes.items() if 'PATIENT' in df.columns and 'ENCOUNTER' not in df.columns]}\")\n",
    "\n",
    "# are there patients that are associated to multiple encounters?\n",
    "encounter_patient_ids = dataframes[\"encounters\"][\"PATIENT\"]\n",
    "print(f\"are there patients that are associated to multiple encounters?: {len(encounter_patient_ids) > len(set(encounter_patient_ids))}\")"
   ]
  },
  {
   "cell_type": "code",
   "execution_count": 5,
   "id": "d89bdd2a",
   "metadata": {},
   "outputs": [
    {
     "name": "stdout",
     "output_type": "stream",
     "text": [
      "{'Id': {221: '45166484-2cc4-40f0-9be5-b9435ce0e476'}, 'BIRTHDATE': {221: '1967-02-20'}, 'DEATHDATE': {221: nan}, 'SSN': {221: '999-53-6733'}, 'DRIVERS': {221: 'S99998526'}, 'PASSPORT': {221: 'X88005000X'}, 'PREFIX': {221: 'Mrs.'}, 'FIRST': {221: 'Katia630'}, 'LAST': {221: 'Thiel172'}, 'SUFFIX': {221: nan}, 'MAIDEN': {221: 'Kuhn96'}, 'MARITAL': {221: 'M'}, 'RACE': {221: 'white'}, 'ETHNICITY': {221: 'nonhispanic'}, 'GENDER': {221: 'F'}, 'BIRTHPLACE': {221: 'Chelmsford  Massachusetts  US'}, 'ADDRESS': {221: '818 Rau Fort'}, 'CITY': {221: 'Boston'}, 'STATE': {221: 'Massachusetts'}, 'COUNTY': {221: 'Suffolk County'}, 'ZIP': {221: 2115.0}, 'LAT': {221: 42.39633957470782}, 'LON': {221: -71.1113862046484}, 'HEALTHCARE_EXPENSES': {221: 1224055.92}, 'HEALTHCARE_COVERAGE': {221: 5526.959999999999}}\n"
     ]
    }
   ],
   "source": [
    "patients = dataframes[\"patients\"]\n",
    "patient = patients.sample()\n",
    "print(patient.to_dict())"
   ]
  },
  {
   "cell_type": "code",
   "execution_count": 6,
   "id": "48ec67b6",
   "metadata": {},
   "outputs": [
    {
     "name": "stdout",
     "output_type": "stream",
     "text": [
      "Encounters Table - Sample Values:\n",
      "\n",
      "================================================================================\n",
      "\n",
      "Id:\n",
      "  1. d0c40d10-8d87-447e-836e-99d26ad52ea5\n",
      "  2. e88bc3a9-007c-405e-aabc-792a38f4aa2b\n",
      "  3. 8f104aa7-4ca9-4473-885a-bba2437df588\n",
      "  4. b85c339a-6076-43ed-b9d0-9cf013dec49d\n",
      "  5. dae2b7cb-1316-4b78-954f-fa610a6c6d0e\n",
      "  6. 1e0d6b0e-1711-4a25-99f9-b1c700c9b260\n",
      "  7. 6aa37300-d1b4-48e7-a2f8-5e0f70f48f38\n",
      "  8. 9d35ec9f-352a-4629-92ef-38eae38437e7\n",
      "  9. ae7555a9-eaff-4c09-98a7-21bc6ed1b1fd\n",
      "  10. 7253a9f9-6f6d-429a-926a-7b1d424eae3f\n",
      "\n",
      "START:\n",
      "  1. 2010-01-23T17:45:28Z\n",
      "  2. 2012-01-23T17:45:28Z\n",
      "  3. 2001-05-01T15:02:18Z\n",
      "  4. 2011-07-28T15:02:18Z\n",
      "  5. 2010-07-27T12:58:08Z\n",
      "  6. 2010-05-05T00:26:23Z\n",
      "  7. 2011-04-30T00:26:23Z\n",
      "  8. 2011-08-10T00:26:23Z\n",
      "  9. 2011-11-17T00:26:23Z\n",
      "  10. 2012-04-24T00:26:23Z\n",
      "\n",
      "STOP:\n",
      "  1. 2010-01-23T18:10:28Z\n",
      "  2. 2012-01-23T18:00:28Z\n",
      "  3. 2001-05-01T15:17:18Z\n",
      "  4. 2011-07-28T15:17:18Z\n",
      "  5. 2010-07-27T13:28:08Z\n",
      "  6. 2010-05-05T01:11:23Z\n",
      "  7. 2011-04-30T01:03:23Z\n",
      "  8. 2011-08-10T00:41:23Z\n",
      "  9. 2011-11-17T00:41:23Z\n",
      "  10. 2012-04-24T00:41:23Z\n",
      "\n",
      "PATIENT:\n",
      "  1. 034e9e3b-2def-4559-bb2a-7850888ae060\n",
      "  2. 034e9e3b-2def-4559-bb2a-7850888ae060\n",
      "  3. 1d604da9-9a81-4ba9-80c2-de3375d59b40\n",
      "  4. 1d604da9-9a81-4ba9-80c2-de3375d59b40\n",
      "  5. 10339b10-3cd1-4ac3-ac13-ec26728cb592\n",
      "  6. 8d4c4326-e9de-4f45-9a4c-f8c36bff89ae\n",
      "  7. 8d4c4326-e9de-4f45-9a4c-f8c36bff89ae\n",
      "  8. 8d4c4326-e9de-4f45-9a4c-f8c36bff89ae\n",
      "  9. 8d4c4326-e9de-4f45-9a4c-f8c36bff89ae\n",
      "  10. 8d4c4326-e9de-4f45-9a4c-f8c36bff89ae\n",
      "\n",
      "ORGANIZATION:\n",
      "  1. e002090d-4e92-300e-b41e-7d1f21dee4c6\n",
      "  2. 772ee193-bb9f-30eb-9939-21e86c8e4da5\n",
      "  3. 5d4b9df1-93ae-3bc9-b680-03249990e558\n",
      "  4. 3dc9bb2d-5d66-3e61-bf9a-e234c6433577\n",
      "  5. b03dba4f-892f-365c-bfd1-bfcfa7a98d5d\n",
      "  6. b0e04623-b02c-3f8b-92ea-943fc4db60da\n",
      "  7. b0e04623-b02c-3f8b-92ea-943fc4db60da\n",
      "  8. b0e04623-b02c-3f8b-92ea-943fc4db60da\n",
      "  9. b0e04623-b02c-3f8b-92ea-943fc4db60da\n",
      "  10. b0e04623-b02c-3f8b-92ea-943fc4db60da\n",
      "\n",
      "PROVIDER:\n",
      "  1. e6283e46-fd81-3611-9459-0edb1c3da357\n",
      "  2. 6f1d59a7-a5bd-3cf9-9671-5bad2f351c28\n",
      "  3. af01a385-31d3-3c77-8fdb-2867fe88df2f\n",
      "  4. bb17e691-262b-3546-93d5-d88e7de93246\n",
      "  5. 7ed6b84a-b847-3744-9d42-15c42297a0c2\n",
      "  6. 58b66cc1-2b86-377f-ad77-ad8164388e50\n",
      "  7. 58b66cc1-2b86-377f-ad77-ad8164388e50\n",
      "  8. 58b66cc1-2b86-377f-ad77-ad8164388e50\n",
      "  9. 58b66cc1-2b86-377f-ad77-ad8164388e50\n",
      "  10. 58b66cc1-2b86-377f-ad77-ad8164388e50\n",
      "\n",
      "PAYER:\n",
      "  1. 6e2f1a2d-27bd-3701-8d08-dae202c58632\n",
      "  2. 6e2f1a2d-27bd-3701-8d08-dae202c58632\n",
      "  3. b1c428d6-4f07-31e0-90f0-68ffa6ff8c76\n",
      "  4. b1c428d6-4f07-31e0-90f0-68ffa6ff8c76\n",
      "  5. d47b3510-2895-3b70-9897-342d681c769d\n",
      "  6. b1c428d6-4f07-31e0-90f0-68ffa6ff8c76\n",
      "  7. b1c428d6-4f07-31e0-90f0-68ffa6ff8c76\n",
      "  8. 4d71f845-a6a9-3c39-b242-14d25ef86a8d\n",
      "  9. 4d71f845-a6a9-3c39-b242-14d25ef86a8d\n",
      "  10. b1c428d6-4f07-31e0-90f0-68ffa6ff8c76\n",
      "\n",
      "ENCOUNTERCLASS:\n",
      "  1. ambulatory\n",
      "  2. wellness\n",
      "  3. ambulatory\n",
      "  4. wellness\n",
      "  5. wellness\n",
      "  6. outpatient\n",
      "  7. outpatient\n",
      "  8. ambulatory\n",
      "  9. ambulatory\n",
      "  10. outpatient\n",
      "\n",
      "CODE:\n",
      "  1. 185345009\n",
      "  2. 162673000\n",
      "  3. 185345009\n",
      "  4. 162673000\n",
      "  5. 162673000\n",
      "  6. 698314001\n",
      "  7. 698314001\n",
      "  8. 185345009\n",
      "  9. 185345009\n",
      "  10. 698314001\n",
      "\n",
      "DESCRIPTION:\n",
      "  1. Encounter for symptom\n",
      "  2. General examination of patient (procedure)\n",
      "  3. Encounter for symptom\n",
      "  4. General examination of patient (procedure)\n",
      "  5. General examination of patient (procedure)\n",
      "  6. Consultation for treatment\n",
      "  7. Consultation for treatment\n",
      "  8. Encounter for symptom\n",
      "  9. Encounter for symptom\n",
      "  10. Consultation for treatment\n",
      "\n",
      "BASE_ENCOUNTER_COST:\n",
      "  1. 129.16\n",
      "  2. 129.16\n",
      "  3. 129.16\n",
      "  4. 129.16\n",
      "  5. 129.16\n",
      "  6. 129.16\n",
      "  7. 129.16\n",
      "  8. 129.16\n",
      "  9. 129.16\n",
      "  10. 129.16\n",
      "\n",
      "TOTAL_CLAIM_COST:\n",
      "  1. 129.16\n",
      "  2. 129.16\n",
      "  3. 129.16\n",
      "  4. 129.16\n",
      "  5. 129.16\n",
      "  6. 129.16\n",
      "  7. 129.16\n",
      "  8. 129.16\n",
      "  9. 129.16\n",
      "  10. 129.16\n",
      "\n",
      "PAYER_COVERAGE:\n",
      "  1. 54.16\n",
      "  2. 129.16\n",
      "  3. 0.0\n",
      "  4. 0.0\n",
      "  5. 129.16\n",
      "  6. 0.0\n",
      "  7. 0.0\n",
      "  8. 64.16\n",
      "  9. 64.16\n",
      "  10. 0.0\n",
      "\n",
      "REASONCODE:\n",
      "  1. 10509002.0\n",
      "  2. nan\n",
      "  3. 36971009.0\n",
      "  4. nan\n",
      "  5. nan\n",
      "  6. nan\n",
      "  7. nan\n",
      "  8. 444814009.0\n",
      "  9. 195662009.0\n",
      "  10. nan\n",
      "\n",
      "REASONDESCRIPTION:\n",
      "  1. Acute bronchitis (disorder)\n",
      "  2. nan\n",
      "  3. Sinusitis (disorder)\n",
      "  4. nan\n",
      "  5. nan\n",
      "  6. nan\n",
      "  7. nan\n",
      "  8. Viral sinusitis (disorder)\n",
      "  9. Acute viral pharyngitis (disorder)\n",
      "  10. nan\n"
     ]
    }
   ],
   "source": [
    "# print 5 sample values for each column in encounters\n",
    "encounter_df = dataframes[\"encounters\"]\n",
    "\n",
    "print(\"Encounters Table - Sample Values:\\n\")\n",
    "print(\"=\" * 80)\n",
    "\n",
    "for col in encounter_df.columns:\n",
    "    print(f\"\\n{col}:\")\n",
    "    samples = encounter_df[col].head(10).tolist()\n",
    "    for i, value in enumerate(samples, 1):\n",
    "        print(f\"  {i}. {value}\")\n"
   ]
  },
  {
   "cell_type": "code",
   "execution_count": 9,
   "id": "518e90c2",
   "metadata": {},
   "outputs": [
    {
     "name": "stdout",
     "output_type": "stream",
     "text": [
      "['allergies', 'careplans', 'conditions', 'devices', 'imaging_studies', 'immunizations', 'medications', 'observations', 'procedures', 'supplies']\n"
     ]
    }
   ],
   "source": [
    "# list all tables that do have a colum \"ENCOUNTER\"\n",
    "tables_with_encounter = [name for name, df in dataframes.items() if \"ENCOUNTER\" in df.columns]\n",
    "print(tables_with_encounter)"
   ]
  }
 ],
 "metadata": {
  "kernelspec": {
   "display_name": ".venv",
   "language": "python",
   "name": "python3"
  },
  "language_info": {
   "codemirror_mode": {
    "name": "ipython",
    "version": 3
   },
   "file_extension": ".py",
   "mimetype": "text/x-python",
   "name": "python",
   "nbconvert_exporter": "python",
   "pygments_lexer": "ipython3",
   "version": "3.13.7"
  }
 },
 "nbformat": 4,
 "nbformat_minor": 5
}
