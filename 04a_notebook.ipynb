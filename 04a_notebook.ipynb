{
 "cells": [
  {
   "cell_type": "markdown",
   "id": "84d2dc4f",
   "metadata": {},
   "source": [
    "# Inspect synthea dataset"
   ]
  },
  {
   "cell_type": "code",
   "execution_count": 2,
   "id": "2acfc372",
   "metadata": {},
   "outputs": [],
   "source": [
    "from pathlib import Path\n",
    "import pandas as pd\n",
    "from dotenv import load_dotenv\n",
    "import json\n",
    "assert(load_dotenv())\n",
    "\n"
   ]
  },
  {
   "cell_type": "markdown",
   "id": "d46dc619",
   "metadata": {
    "vscode": {
     "languageId": "plaintext"
    }
   },
   "source": [
    "Load Synthea Data"
   ]
  },
  {
   "cell_type": "code",
   "execution_count": 8,
   "id": "a0cbd871",
   "metadata": {},
   "outputs": [
    {
     "name": "stdout",
     "output_type": "stream",
     "text": [
      "allergies:\t['CODE', 'DESCRIPTION', 'ENCOUNTER', 'PATIENT', 'START', 'STOP']\n",
      "careplans:\t['CODE', 'DESCRIPTION', 'ENCOUNTER', 'Id', 'PATIENT', 'REASONCODE', 'REASONDESCRIPTION', 'START', 'STOP']\n",
      "conditions:\t['CODE', 'DESCRIPTION', 'ENCOUNTER', 'PATIENT', 'START', 'STOP']\n",
      "devices:\t['CODE', 'DESCRIPTION', 'ENCOUNTER', 'PATIENT', 'START', 'STOP', 'UDI']\n",
      "encounters:\t['BASE_ENCOUNTER_COST', 'CODE', 'DESCRIPTION', 'ENCOUNTERCLASS', 'Id', 'ORGANIZATION', 'PATIENT', 'PAYER', 'PAYER_COVERAGE', 'PROVIDER', 'REASONCODE', 'REASONDESCRIPTION', 'START', 'STOP', 'TOTAL_CLAIM_COST']\n",
      "imaging_studies:\t['BODYSITE_CODE', 'BODYSITE_DESCRIPTION', 'DATE', 'ENCOUNTER', 'Id', 'MODALITY_CODE', 'MODALITY_DESCRIPTION', 'PATIENT', 'SOP_CODE', 'SOP_DESCRIPTION']\n",
      "immunizations:\t['BASE_COST', 'CODE', 'DATE', 'DESCRIPTION', 'ENCOUNTER', 'PATIENT']\n",
      "medications:\t['BASE_COST', 'CODE', 'DESCRIPTION', 'DISPENSES', 'ENCOUNTER', 'PATIENT', 'PAYER', 'PAYER_COVERAGE', 'REASONCODE', 'REASONDESCRIPTION', 'START', 'STOP', 'TOTALCOST']\n",
      "observations:\t['CODE', 'DATE', 'DESCRIPTION', 'ENCOUNTER', 'PATIENT', 'TYPE', 'UNITS', 'VALUE']\n",
      "organizations:\t['ADDRESS', 'CITY', 'Id', 'LAT', 'LON', 'NAME', 'PHONE', 'REVENUE', 'STATE', 'UTILIZATION', 'ZIP']\n",
      "patients:\t['ADDRESS', 'BIRTHDATE', 'BIRTHPLACE', 'CITY', 'COUNTY', 'DEATHDATE', 'DRIVERS', 'ETHNICITY', 'FIRST', 'GENDER', 'HEALTHCARE_COVERAGE', 'HEALTHCARE_EXPENSES', 'Id', 'LAST', 'LAT', 'LON', 'MAIDEN', 'MARITAL', 'PASSPORT', 'PREFIX', 'RACE', 'SSN', 'STATE', 'SUFFIX', 'ZIP']\n",
      "payers:\t['ADDRESS', 'AMOUNT_COVERED', 'AMOUNT_UNCOVERED', 'CITY', 'COVERED_ENCOUNTERS', 'COVERED_IMMUNIZATIONS', 'COVERED_MEDICATIONS', 'COVERED_PROCEDURES', 'Id', 'MEMBER_MONTHS', 'NAME', 'PHONE', 'QOLS_AVG', 'REVENUE', 'STATE_HEADQUARTERED', 'UNCOVERED_ENCOUNTERS', 'UNCOVERED_IMMUNIZATIONS', 'UNCOVERED_MEDICATIONS', 'UNCOVERED_PROCEDURES', 'UNIQUE_CUSTOMERS', 'ZIP']\n",
      "payer_transitions:\t['END_YEAR', 'OWNERSHIP', 'PATIENT', 'PAYER', 'START_YEAR']\n",
      "procedures:\t['BASE_COST', 'CODE', 'DATE', 'DESCRIPTION', 'ENCOUNTER', 'PATIENT', 'REASONCODE', 'REASONDESCRIPTION']\n",
      "providers:\t['ADDRESS', 'CITY', 'GENDER', 'Id', 'LAT', 'LON', 'NAME', 'ORGANIZATION', 'SPECIALITY', 'STATE', 'UTILIZATION', 'ZIP']\n",
      "supplies:\t['CODE', 'DATE', 'DESCRIPTION', 'ENCOUNTER', 'PATIENT', 'QUANTITY']\n"
     ]
    }
   ],
   "source": [
    "data_dir = Path(\"data/synthea\")\n",
    "dataframes = {}\n",
    "\n",
    "for csv_file in data_dir.glob(\"*.csv\"):\n",
    "    key = csv_file.stem  # filename without .csv\n",
    "    df = pd.read_csv(csv_file, header=0)\n",
    "    dataframes[key] = df\n",
    "\n",
    "# write human readable jsons for each dataframe to data/synthea/sample_structure.md\n",
    "with open(\"data/synthea/sample_structure.md\", \"w\", encoding=\"utf-8\") as f:\n",
    "    for key, df in dataframes.items():\n",
    "        if df.empty:\n",
    "            continue\n",
    "        f.write(f\"## {key}\\n\\n\")\n",
    "        f.write(f\"```json\\n{json.dumps(df.iloc[0].to_dict(), indent=2, ensure_ascii=False)}\\n```\")\n",
    "        f.write(\"\\n\\n\")\n",
    "\n",
    "\n",
    "for key, df in dataframes.items():\n",
    "    print(f\"{key}:\\t{sorted(df.columns.tolist())}\")\n"
   ]
  },
  {
   "cell_type": "code",
   "execution_count": 5,
   "id": "04acd366",
   "metadata": {},
   "outputs": [
    {
     "name": "stdout",
     "output_type": "stream",
     "text": [
      "all allergy patient ids in patients table?: True\n",
      "all patient ids in allergies table?: False\n",
      "Percentage of patients that have an allergy?: 12.04%\n"
     ]
    }
   ],
   "source": [
    "# check if all patient ids occour in the allergies table\n",
    "all_patient_ids = set(dataframes[\"patients\"][\"Id\"])\n",
    "allergy_patient_ids = set(dataframes[\"allergies\"][\"PATIENT\"])\n",
    "print(f\"all allergy patient ids in patients table?: {allergy_patient_ids.issubset(all_patient_ids)}\")\n",
    "print(f\"all patient ids in allergies table?: {all_patient_ids.issubset(allergy_patient_ids)}\")\n",
    "print(f\"Percentage of patients that have an allergy?: {len(allergy_patient_ids) / len(all_patient_ids) * 100:.2f}%\")\n"
   ]
  },
  {
   "cell_type": "code",
   "execution_count": 6,
   "id": "ba3c9c66",
   "metadata": {},
   "outputs": [
    {
     "name": "stdout",
     "output_type": "stream",
     "text": [
      "Tables with patient IDs: ['allergies', 'careplans', 'conditions', 'devices', 'encounters', 'imaging_studies', 'immunizations', 'medications', 'observations', 'payer_transitions', 'procedures', 'supplies']\n",
      "tables with patient id and no encounter id: ['encounters', 'payer_transitions']\n",
      "are there patients that are associated to multiple encounters?: True\n"
     ]
    }
   ],
   "source": [
    "# which tables have patient ids\n",
    "patient_id_tables = [key for key, df in dataframes.items() if \"PATIENT\" in df.columns]\n",
    "print(f\"Tables with patient IDs: {patient_id_tables}\")\n",
    "print(f\"tables with patient id and no encounter id: {[key for key, df in dataframes.items() if 'PATIENT' in df.columns and 'ENCOUNTER' not in df.columns]}\")\n",
    "\n",
    "# are there patients that are associated to multiple encounters?\n",
    "encounter_patient_ids = dataframes[\"encounters\"][\"PATIENT\"]\n",
    "print(f\"are there patients that are associated to multiple encounters?: {len(encounter_patient_ids) > len(set(encounter_patient_ids))}\")"
   ]
  },
  {
   "cell_type": "code",
   "execution_count": 8,
   "id": "d89bdd2a",
   "metadata": {},
   "outputs": [
    {
     "name": "stdout",
     "output_type": "stream",
     "text": [
      "{'Id': {659: '40c83ae5-ba34-483e-b348-b558b44179ca'}, 'BIRTHDATE': {659: '1925-04-22'}, 'DEATHDATE': {659: '2003-10-27'}, 'SSN': {659: '999-22-4520'}, 'DRIVERS': {659: 'S99931941'}, 'PASSPORT': {659: 'X24586524X'}, 'PREFIX': {659: 'Mr.'}, 'FIRST': {659: 'Mickey576'}, 'LAST': {659: 'Maggio310'}, 'SUFFIX': {659: nan}, 'MAIDEN': {659: nan}, 'MARITAL': {659: 'M'}, 'RACE': {659: 'black'}, 'ETHNICITY': {659: 'nonhispanic'}, 'GENDER': {659: 'M'}, 'BIRTHPLACE': {659: 'Boston  Massachusetts  US'}, 'ADDRESS': {659: '304 Gorczany Mall Unit 40'}, 'CITY': {659: 'Dennis'}, 'STATE': {659: 'Massachusetts'}, 'COUNTY': {659: 'Barnstable County'}, 'ZIP': {659: 2638.0}, 'LAT': {659: 41.70711038322165}, 'LON': {659: -70.21703859774641}, 'HEALTHCARE_EXPENSES': {659: 1717582.61}, 'HEALTHCARE_COVERAGE': {659: 18747.24}}\n"
     ]
    }
   ],
   "source": [
    "patients = dataframes[\"patients\"]\n",
    "patient = patients.sample()\n",
    "print(patient.to_dict())"
   ]
  },
  {
   "cell_type": "code",
   "execution_count": null,
   "id": "48ec67b6",
   "metadata": {},
   "outputs": [],
   "source": []
  }
 ],
 "metadata": {
  "kernelspec": {
   "display_name": ".venv",
   "language": "python",
   "name": "python3"
  },
  "language_info": {
   "codemirror_mode": {
    "name": "ipython",
    "version": 3
   },
   "file_extension": ".py",
   "mimetype": "text/x-python",
   "name": "python",
   "nbconvert_exporter": "python",
   "pygments_lexer": "ipython3",
   "version": "3.13.7"
  }
 },
 "nbformat": 4,
 "nbformat_minor": 5
}
