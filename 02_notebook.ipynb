{
 "cells": [
  {
   "cell_type": "markdown",
   "id": "651bbdcc",
   "metadata": {},
   "source": [
    "# L3: Debug DSPy Agent with MLflow Tracing\n",
    "\n",
    "Run mlflow:\n"
   ]
  },
  {
   "cell_type": "markdown",
   "id": "657be3a0",
   "metadata": {
    "vscode": {
     "languageId": "powershell"
    }
   },
   "source": [
    "```\n",
    "docker pull ghcr.io/mlflow/mlflow:latest\n",
    "docker run -d -p 5000:5000 ghcr.io/mlflow/mlflow:latest mlflow server --host 0.0.0.0\n",
    "```"
   ]
  },
  {
   "cell_type": "code",
   "execution_count": 1,
   "id": "2e18930d",
   "metadata": {},
   "outputs": [
    {
     "name": "stdout",
     "output_type": "stream",
     "text": [
      "Hello World\n"
     ]
    }
   ],
   "source": [
    "print(\"Hello World\")"
   ]
  },
  {
   "cell_type": "code",
   "execution_count": 2,
   "id": "a8bfa519",
   "metadata": {},
   "outputs": [],
   "source": [
    "from dotenv import load_dotenv\n",
    "import mlflow\n",
    "assert(load_dotenv())\n",
    "import dspy\n",
    "\n",
    "dspy.configure(lm=dspy.LM(\"openai/gpt-4o-mini\"))\n",
    "mlflow.set_tracking_uri(\"http://localhost:5000\")\n",
    "mlflow.set_experiment(\"Debug DSPy Agent\")\n",
    "mlflow.dspy.autolog()"
   ]
  },
  {
   "cell_type": "code",
   "execution_count": 3,
   "id": "418a2ae1",
   "metadata": {},
   "outputs": [],
   "source": [
    "from pydantic import BaseModel\n",
    "\n",
    "class Date(BaseModel):\n",
    "    # Somehow LLM is bad at specifying `datetime.datetime`\n",
    "    year: int\n",
    "    month: int\n",
    "    day: int\n",
    "    hour: int\n",
    "\n",
    "class UserProfile(BaseModel):\n",
    "    user_id: str\n",
    "    name: str\n",
    "    email: str\n",
    "\n",
    "class Flight(BaseModel):\n",
    "    flight_id: str\n",
    "    date_time: Date\n",
    "    origin: str\n",
    "    destination: str\n",
    "    duration: float\n",
    "    price: float\n",
    "\n",
    "class Itinerary(BaseModel):\n",
    "    confirmation_number: str\n",
    "    user_profile: UserProfile\n",
    "    flight: Flight\n",
    "\n",
    "class Ticket(BaseModel):\n",
    "    user_request: str\n",
    "    user_profile: UserProfile"
   ]
  },
  {
   "cell_type": "code",
   "execution_count": 4,
   "id": "607fef73",
   "metadata": {},
   "outputs": [],
   "source": [
    "user_database = {\n",
    "    \"Adam\": UserProfile(user_id=\"1\", name=\"Adam\", email=\"adam@gmail.com\"),\n",
    "    \"Bob\": UserProfile(user_id=\"2\", name=\"Bob\", email=\"bob@gmail.com\"),\n",
    "    \"Chelsie\": UserProfile(user_id=\"3\", name=\"Chelsie\", email=\"chelsie@gmail.com\"),\n",
    "    \"David\": UserProfile(user_id=\"4\", name=\"David\", email=\"david@gmail.com\"),\n",
    "}\n",
    "\n",
    "flight_database = {\n",
    "    \"DA123\": Flight(\n",
    "        flight_id=\"DA123\",\n",
    "        origin=\"SFO\",\n",
    "        destination=\"JFK\",\n",
    "        date_time=Date(year=2025, month=9, day=1, hour=1),\n",
    "        duration=3,\n",
    "        price=200,\n",
    "    ),\n",
    "    \"DA125\": Flight(\n",
    "        flight_id=\"DA125\",\n",
    "        origin=\"SFO\",\n",
    "        destination=\"JFK\",\n",
    "        date_time=Date(year=2025, month=9, day=1, hour=7),\n",
    "        duration=9,\n",
    "        price=500,\n",
    "    ),\n",
    "    \"DA456\": Flight(\n",
    "        flight_id=\"DA456\",\n",
    "        origin=\"SFO\",\n",
    "        destination=\"SNA\",\n",
    "        date_time=Date(year=2025, month=10, day=1, hour=1),\n",
    "        duration=2,\n",
    "        price=100,\n",
    "    ),\n",
    "    \"DA460\": Flight(\n",
    "        flight_id=\"DA460\",\n",
    "        origin=\"SFO\",\n",
    "        destination=\"SNA\",\n",
    "        date_time=Date(year=2025, month=10, day=1, hour=9),\n",
    "        duration=2,\n",
    "        price=120,\n",
    "    ),\n",
    "}\n",
    "\n",
    "itinery_database = {}\n",
    "ticket_database = {}\n"
   ]
  },
  {
   "cell_type": "code",
   "execution_count": 5,
   "id": "7034ead9",
   "metadata": {},
   "outputs": [],
   "source": [
    "import random\n",
    "import string\n",
    "\n",
    "def fetch_flight_info(date: Date, origin: str, destination: str):\n",
    "    \"\"\"Fetch flight information from origin to destination on the given date\"\"\"\n",
    "    flights = []\n",
    "\n",
    "    for flight_id, flight in flight_database.items():\n",
    "        if (\n",
    "            flight.date_time.year == date.year\n",
    "            and flight.date_time.month == date.month\n",
    "            and flight.date_time.day == date.day\n",
    "            and flight.origin == origin\n",
    "            and flight.destination == destination\n",
    "        ):\n",
    "            flights.append(flight)\n",
    "    return flights\n",
    "\n",
    "def fetch_itinerary(confirmation_number: str):\n",
    "    \"\"\"Fetch a booked itinerary information from database\"\"\"\n",
    "    return itinery_database.get(confirmation_number)\n",
    "\n",
    "def pick_flight(flights: list[Flight]):\n",
    "    \"\"\"Pick up the best flight that matches users' request.\"\"\"\n",
    "    sorted_flights = sorted(\n",
    "        flights,\n",
    "        key=lambda x: (\n",
    "            x.get(\"duration\") if isinstance(x, dict) else x.duration,\n",
    "            x.get(\"price\") if isinstance(x, dict) else x.price,\n",
    "        ),\n",
    "    )\n",
    "    return sorted_flights[0]\n",
    "\n",
    "def generate_id(length=8):\n",
    "    chars = string.ascii_lowercase + string.digits\n",
    "    return \"\".join(random.choices(chars, k=length))\n",
    "\n",
    "def book_itinerary(flight: Flight, user_profile: UserProfile):\n",
    "    \"\"\"Book a flight on behalf of the user.\"\"\"\n",
    "    confirmation_number = generate_id()\n",
    "    while confirmation_number in itinery_database:\n",
    "        confirmation_number = generate_id()\n",
    "    itinery_database[confirmation_number] = Itinerary(\n",
    "        confirmation_number=confirmation_number,\n",
    "        user_profile=user_profile,\n",
    "        flight=flight,\n",
    "    )\n",
    "    return confirmation_number, itinery_database[confirmation_number]\n",
    "\n",
    "def cancel_itinerary(confirmation_number: str, user_profile: UserProfile):\n",
    "    \"\"\"Cancel an itinerary on behalf of the user.\"\"\"\n",
    "    if confirmation_number in itinery_database:\n",
    "        del itinery_database[confirmation_number]\n",
    "        return\n",
    "    raise ValueError(\"Cannot find the itinerary, please check your confirmation number.\")\n",
    "\n",
    "\n",
    "def get_user_info(name: str):\n",
    "    \"\"\"Fetch the user profile from database with given name.\"\"\"\n",
    "    return user_database.get(name)\n",
    "\n",
    "\n",
    "def file_ticket(user_request: str, user_profile: UserProfile):\n",
    "    \"\"\"File a customer support ticket if this is something the agent cannot handle.\"\"\"\n",
    "    ticket_id = generate_id(length=6)\n",
    "    ticket_database[ticket_id] = Ticket(\n",
    "        user_request=user_request,\n",
    "        user_profile=user_profile,\n",
    "    )\n",
    "    return ticket_id"
   ]
  },
  {
   "cell_type": "code",
   "execution_count": 6,
   "id": "10737b92",
   "metadata": {},
   "outputs": [],
   "source": [
    "class DSPyAirlineCustomerService(dspy.Signature):\n",
    "    \"\"\"You are an airline customer service agent. You are given a list of tools to handle user requests. You should decide the right tool to use in order to fullfill the user's request.\"\"\"\n",
    "\n",
    "    user_request: str = dspy.InputField()\n",
    "    process_result: str = dspy.OutputField(desc=\"Message that summarizes the process result, and the information users need, e.g., the confirmation_number if it's a flight booking request.\")\n",
    "\n",
    "airline_service_agent = dspy.ReAct(\n",
    "    DSPyAirlineCustomerService,\n",
    "    tools=[\n",
    "        fetch_flight_info,\n",
    "        fetch_itinerary,\n",
    "        pick_flight,\n",
    "        book_itinerary,\n",
    "        cancel_itinerary,\n",
    "        get_user_info,\n",
    "        file_ticket,\n",
    "    ]\n",
    ")\n"
   ]
  },
  {
   "cell_type": "code",
   "execution_count": 7,
   "id": "5490d17a",
   "metadata": {},
   "outputs": [
    {
     "data": {
      "text/html": [
       "\n",
       "<div>\n",
       "  <style scoped>\n",
       "  button {\n",
       "    border: none;\n",
       "    border-radius: 4px;\n",
       "    background-color: rgb(34, 114, 180);\n",
       "    font-family: -apple-system, \"system-ui\", \"Segoe UI\", Roboto, \"Helvetica Neue\", Arial;\n",
       "    font-size: 13px;\n",
       "    color: white;\n",
       "    margin-top: 8px;\n",
       "    margin-bottom: 8px;\n",
       "    padding: 8px 16px;\n",
       "    cursor: pointer;\n",
       "  }\n",
       "  button:hover {\n",
       "    background-color: rgb(66, 153, 224);\n",
       "  }\n",
       "  </style>\n",
       "  <button\n",
       "    onclick=\"\n",
       "        const display = this.nextElementSibling.style.display;\n",
       "        const isCollapsed = display === 'none';\n",
       "        this.nextElementSibling.style.display = isCollapsed ? null : 'none';\n",
       "\n",
       "        const verb = isCollapsed ? 'Collapse' : 'Expand';\n",
       "        this.innerText = `${verb} MLflow Trace`;\n",
       "    \"\n",
       "  >Collapse MLflow Trace</button>\n",
       "  <iframe\n",
       "    id=\"trace-renderer\"\n",
       "    style=\"width: 100%; height: 500px; border: none; resize: vertical;\"\n",
       "    src=\"http://localhost:5000/static-files/lib/notebook-trace-renderer/index.html?trace_id=tr-919f37163f7251a95aa3bc6429b303fd&amp;experiment_id=994963471387454681&amp;version=3.5.1\"\n",
       "  />\n",
       "</div>\n"
      ],
      "text/plain": [
       "Trace(trace_id=tr-919f37163f7251a95aa3bc6429b303fd)"
      ]
     },
     "metadata": {},
     "output_type": "display_data"
    }
   ],
   "source": [
    "result = airline_service_agent(user_request=\"please help me book a flight from SFO to JFK on 09/01/2025, my name is Adam\")"
   ]
  }
 ],
 "metadata": {
  "kernelspec": {
   "display_name": ".venv",
   "language": "python",
   "name": "python3"
  },
  "language_info": {
   "codemirror_mode": {
    "name": "ipython",
    "version": 3
   },
   "file_extension": ".py",
   "mimetype": "text/x-python",
   "name": "python",
   "nbconvert_exporter": "python",
   "pygments_lexer": "ipython3",
   "version": "3.13.7"
  }
 },
 "nbformat": 4,
 "nbformat_minor": 5
}
