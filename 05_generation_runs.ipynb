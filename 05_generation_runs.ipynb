{
 "cells": [
  {
   "cell_type": "code",
   "execution_count": null,
   "id": "bc824a70",
   "metadata": {},
   "outputs": [],
   "source": [
    "from generate_encounter_narrative import main\n",
    "\n",
    "# Show help message\n",
    "# main([\"--help\"])"
   ]
  },
  {
   "cell_type": "markdown",
   "id": "02475a00",
   "metadata": {},
   "source": [
    "```\n",
    "usage: [-h] [--data-dir DATA_DIR]\n",
    "                             [--output-dir OUTPUT_DIR]\n",
    "                             [--encounter-id ENCOUNTER_ID] [--seed SEED]\n",
    "                             [--model MODEL] [--temperature TEMPERATURE]\n",
    "                             [--max-tokens MAX_TOKENS]\n",
    "                             [--mlflow-uri MLFLOW_URI] [--no-mlflow]\n",
    "\n",
    "Generate narrative summaries for patient encounters from Synthea EHR data\n",
    "\n",
    "options:\n",
    "  -h, --help            show this help message and exit\n",
    "  --data-dir DATA_DIR   Path to directory containing Synthea CSV files\n",
    "  --output-dir OUTPUT_DIR\n",
    "                        Path to directory where generated documents will be\n",
    "                        saved\n",
    "  --encounter-id ENCOUNTER_ID\n",
    "                        Specific encounter ID to process (if not provided, a\n",
    "                        random encounter will be selected)\n",
    "  --seed SEED           Random seed for reproducibility\n",
    "  --model MODEL         LLM model to use\n",
    "  --temperature TEMPERATURE\n",
    "                        Temperature for LLM generation\n",
    "  --max-tokens MAX_TOKENS\n",
    "                        Maximum tokens for LLM generation\n",
    "  --mlflow-uri MLFLOW_URI\n",
    "                        MLflow tracking URI\n",
    "  --no-mlflow           Disable MLflow logging\n",
    "```"
   ]
  },
  {
   "cell_type": "code",
   "execution_count": null,
   "id": "857a5973",
   "metadata": {},
   "outputs": [],
   "source": [
    "for _ in range(7):\n",
    "    main([\"--model\", \"openai/gpt-4.1\"])"
   ]
  }
 ],
 "metadata": {
  "kernelspec": {
   "display_name": ".venv",
   "language": "python",
   "name": "python3"
  },
  "language_info": {
   "codemirror_mode": {
    "name": "ipython",
    "version": 3
   },
   "file_extension": ".py",
   "mimetype": "text/x-python",
   "name": "python",
   "nbconvert_exporter": "python",
   "pygments_lexer": "ipython3",
   "version": "3.13.7"
  }
 },
 "nbformat": 4,
 "nbformat_minor": 5
}
