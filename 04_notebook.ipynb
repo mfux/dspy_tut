{
 "cells": [
  {
   "cell_type": "markdown",
   "id": "84d2dc4f",
   "metadata": {},
   "source": [
    "# Document Generation with DSPy"
   ]
  },
  {
   "cell_type": "code",
   "execution_count": 1,
   "id": "2acfc372",
   "metadata": {},
   "outputs": [
    {
     "data": {
      "text/plain": [
       "'Hello, world!'"
      ]
     },
     "execution_count": 1,
     "metadata": {},
     "output_type": "execute_result"
    }
   ],
   "source": [
    "from pathlib import Path\n",
    "import pandas as pd\n",
    "from dotenv import load_dotenv\n",
    "import mlflow\n",
    "assert(load_dotenv())\n",
    "import dspy\n",
    "import random\n",
    "from pydantic import BaseModel, Field\n",
    "from typing import Optional\n",
    "import utils\n",
    "\n",
    "random.seed(313)\n",
    "dspy.configure(lm=dspy.LM(\"openai/gpt-4o-mini\"))\n",
    "mlflow.set_tracking_uri(\"http://localhost:5000\")\n",
    "mlflow.set_experiment(\"Astrik Doc Gen\")\n",
    "mlflow.dspy.autolog(log_evals=True, log_compiles=True, log_traces_from_compile=True)\n",
    "utils.hello_world()"
   ]
  },
  {
   "cell_type": "markdown",
   "id": "d46dc619",
   "metadata": {
    "vscode": {
     "languageId": "plaintext"
    }
   },
   "source": [
    "Load Synthea Data"
   ]
  },
  {
   "cell_type": "code",
   "execution_count": 2,
   "id": "a0cbd871",
   "metadata": {},
   "outputs": [
    {
     "name": "stdout",
     "output_type": "stream",
     "text": [
      "allergies:\t['CODE', 'DESCRIPTION', 'ENCOUNTER', 'PATIENT', 'START', 'STOP']\n",
      "careplans:\t['CODE', 'DESCRIPTION', 'ENCOUNTER', 'Id', 'PATIENT', 'REASONCODE', 'REASONDESCRIPTION', 'START', 'STOP']\n",
      "conditions:\t['CODE', 'DESCRIPTION', 'ENCOUNTER', 'PATIENT', 'START', 'STOP']\n",
      "devices:\t['CODE', 'DESCRIPTION', 'ENCOUNTER', 'PATIENT', 'START', 'STOP', 'UDI']\n",
      "encounters:\t['BASE_ENCOUNTER_COST', 'CODE', 'DESCRIPTION', 'ENCOUNTERCLASS', 'Id', 'ORGANIZATION', 'PATIENT', 'PAYER', 'PAYER_COVERAGE', 'PROVIDER', 'REASONCODE', 'REASONDESCRIPTION', 'START', 'STOP', 'TOTAL_CLAIM_COST']\n",
      "imaging_studies:\t['BODYSITE_CODE', 'BODYSITE_DESCRIPTION', 'DATE', 'ENCOUNTER', 'Id', 'MODALITY_CODE', 'MODALITY_DESCRIPTION', 'PATIENT', 'SOP_CODE', 'SOP_DESCRIPTION']\n",
      "immunizations:\t['BASE_COST', 'CODE', 'DATE', 'DESCRIPTION', 'ENCOUNTER', 'PATIENT']\n",
      "medications:\t['BASE_COST', 'CODE', 'DESCRIPTION', 'DISPENSES', 'ENCOUNTER', 'PATIENT', 'PAYER', 'PAYER_COVERAGE', 'REASONCODE', 'REASONDESCRIPTION', 'START', 'STOP', 'TOTALCOST']\n",
      "observations:\t['CODE', 'DATE', 'DESCRIPTION', 'ENCOUNTER', 'PATIENT', 'TYPE', 'UNITS', 'VALUE']\n",
      "organizations:\t['ADDRESS', 'CITY', 'Id', 'LAT', 'LON', 'NAME', 'PHONE', 'REVENUE', 'STATE', 'UTILIZATION', 'ZIP']\n",
      "patients:\t['ADDRESS', 'BIRTHDATE', 'BIRTHPLACE', 'CITY', 'COUNTY', 'DEATHDATE', 'DRIVERS', 'ETHNICITY', 'FIRST', 'GENDER', 'HEALTHCARE_COVERAGE', 'HEALTHCARE_EXPENSES', 'Id', 'LAST', 'LAT', 'LON', 'MAIDEN', 'MARITAL', 'PASSPORT', 'PREFIX', 'RACE', 'SSN', 'STATE', 'SUFFIX', 'ZIP']\n",
      "payers:\t['ADDRESS', 'AMOUNT_COVERED', 'AMOUNT_UNCOVERED', 'CITY', 'COVERED_ENCOUNTERS', 'COVERED_IMMUNIZATIONS', 'COVERED_MEDICATIONS', 'COVERED_PROCEDURES', 'Id', 'MEMBER_MONTHS', 'NAME', 'PHONE', 'QOLS_AVG', 'REVENUE', 'STATE_HEADQUARTERED', 'UNCOVERED_ENCOUNTERS', 'UNCOVERED_IMMUNIZATIONS', 'UNCOVERED_MEDICATIONS', 'UNCOVERED_PROCEDURES', 'UNIQUE_CUSTOMERS', 'ZIP']\n",
      "payer_transitions:\t['END_YEAR', 'OWNERSHIP', 'PATIENT', 'PAYER', 'START_YEAR']\n",
      "procedures:\t['BASE_COST', 'CODE', 'DATE', 'DESCRIPTION', 'ENCOUNTER', 'PATIENT', 'REASONCODE', 'REASONDESCRIPTION']\n",
      "providers:\t['ADDRESS', 'CITY', 'GENDER', 'Id', 'LAT', 'LON', 'NAME', 'ORGANIZATION', 'SPECIALITY', 'STATE', 'UTILIZATION', 'ZIP']\n",
      "supplies:\t['CODE', 'DATE', 'DESCRIPTION', 'ENCOUNTER', 'PATIENT', 'QUANTITY']\n"
     ]
    }
   ],
   "source": [
    "data_dir = Path(\"data/synthea\")\n",
    "dataframes = {csv_file.stem: pd.read_csv(csv_file, header=0) for csv_file in data_dir.glob(\"*.csv\")}\n",
    "\n",
    "for key, df in dataframes.items():\n",
    "    print(f\"{key}:\\t{sorted(df.columns.tolist())}\")\n"
   ]
  },
  {
   "cell_type": "code",
   "execution_count": 3,
   "id": "ba3c9c66",
   "metadata": {},
   "outputs": [
    {
     "name": "stdout",
     "output_type": "stream",
     "text": [
      "1989-05-25\n",
      "Patient: Mr. José Eduardo181 Gómez206\n",
      "Birthdate: 1989-05-25\n",
      "Alive: True\n",
      "\n",
      "Full profile:\n",
      "{\n",
      "  \"id\": \"1d604da9-9a81-4ba9-80c2-de3375d59b40\",\n",
      "  \"birthdate\": {\n",
      "    \"year\": 1989,\n",
      "    \"month\": 5,\n",
      "    \"day\": 25\n",
      "  },\n",
      "  \"ssn\": \"999-76-6866\",\n",
      "  \"first\": \"José Eduardo181\",\n",
      "  \"last\": \"Gómez206\",\n",
      "  \"marital\": \"M\",\n",
      "  \"race\": \"white\",\n",
      "  \"ethnicity\": \"hispanic\",\n",
      "  \"gender\": \"M\",\n",
      "  \"birthplace\": \"Marigot  Saint Andrew Parish  DM\",\n",
      "  \"address\": \"427 Balistreri Way Unit 19\",\n",
      "  \"city\": \"Chicopee\",\n",
      "  \"state\": \"Massachusetts\",\n",
      "  \"county\": \"Hampden County\",\n",
      "  \"deathdate\": null,\n",
      "  \"drivers\": \"S99984236\",\n",
      "  \"passport\": \"X19277260X\",\n",
      "  \"prefix\": \"Mr.\",\n",
      "  \"suffix\": null,\n",
      "  \"maiden\": null,\n",
      "  \"zip\": \"1013\",\n",
      "  \"lat\": 42.22835382315942,\n",
      "  \"lon\": -72.56295055096882,\n",
      "  \"healthcare_expenses\": 271227.08,\n",
      "  \"healthcare_coverage\": 1334.88\n",
      "}\n"
     ]
    }
   ],
   "source": [
    "\n",
    "\n",
    "# Load the first patient as an example\n",
    "first_patient = utils.row_to_patient_profile(dataframes[\"patients\"].iloc[0])\n",
    "print(f\"Patient: {first_patient.prefix} {first_patient.first} {first_patient.last}\")\n",
    "print(f\"Birthdate: {first_patient.birthdate.year}-{first_patient.birthdate.month:02d}-{first_patient.birthdate.day:02d}\")\n",
    "print(f\"Alive: {first_patient.deathdate is None}\")\n",
    "print(f\"\\nFull profile:\")\n",
    "print(first_patient.model_dump_json(indent=2))"
   ]
  },
  {
   "cell_type": "code",
   "execution_count": null,
   "id": "29398374",
   "metadata": {},
   "outputs": [
    {
     "name": "stdout",
     "output_type": "stream",
     "text": [
      "{910: '1999-12-14'}\n"
     ]
    },
    {
     "ename": "AttributeError",
     "evalue": "'dict' object has no attribute 'split'",
     "output_type": "error",
     "traceback": [
      "\u001b[31m---------------------------------------------------------------------------\u001b[39m",
      "\u001b[31mAttributeError\u001b[39m                            Traceback (most recent call last)",
      "\u001b[36mCell\u001b[39m\u001b[36m \u001b[39m\u001b[32mIn[4]\u001b[39m\u001b[32m, line 12\u001b[39m\n\u001b[32m     10\u001b[39m \u001b[38;5;66;03m# sample a line from dataframes[\"patients\"]\u001b[39;00m\n\u001b[32m     11\u001b[39m sample_patient = dataframes[\u001b[33m\"\u001b[39m\u001b[33mpatients\u001b[39m\u001b[33m\"\u001b[39m].sample()\n\u001b[32m---> \u001b[39m\u001b[32m12\u001b[39m patient_profile = \u001b[43mutils\u001b[49m\u001b[43m.\u001b[49m\u001b[43mrow_to_patient_profile\u001b[49m\u001b[43m(\u001b[49m\n\u001b[32m     13\u001b[39m \u001b[43m    \u001b[49m\u001b[43msample_patient\u001b[49m\n\u001b[32m     14\u001b[39m \u001b[43m)\u001b[49m\n\u001b[32m     15\u001b[39m narrative = narrator(patient_profile=patient_profile).narrative\n\u001b[32m     16\u001b[39m \u001b[38;5;28mprint\u001b[39m(narrative)\n",
      "\u001b[36mFile \u001b[39m\u001b[32mc:\\scm\\dspy_tut\\utils.py:87\u001b[39m, in \u001b[36mrow_to_patient_profile\u001b[39m\u001b[34m(row)\u001b[39m\n\u001b[32m     83\u001b[39m \u001b[38;5;66;03m# convert row to dict\u001b[39;00m\n\u001b[32m     84\u001b[39m row = row.to_dict()\n\u001b[32m     85\u001b[39m \u001b[38;5;28;01mreturn\u001b[39;00m PatientProfile(\n\u001b[32m     86\u001b[39m     \u001b[38;5;28mid\u001b[39m=row[\u001b[33m\"\u001b[39m\u001b[33mId\u001b[39m\u001b[33m\"\u001b[39m],\n\u001b[32m---> \u001b[39m\u001b[32m87\u001b[39m     birthdate=\u001b[43mparse_date\u001b[49m\u001b[43m(\u001b[49m\u001b[43mrow\u001b[49m\u001b[43m[\u001b[49m\u001b[33;43m\"\u001b[39;49m\u001b[33;43mBIRTHDATE\u001b[39;49m\u001b[33;43m\"\u001b[39;49m\u001b[43m]\u001b[49m\u001b[43m)\u001b[49m,\n\u001b[32m     88\u001b[39m     ssn=row[\u001b[33m\"\u001b[39m\u001b[33mSSN\u001b[39m\u001b[33m\"\u001b[39m],\n\u001b[32m     89\u001b[39m     first=row[\u001b[33m\"\u001b[39m\u001b[33mFIRST\u001b[39m\u001b[33m\"\u001b[39m],\n\u001b[32m     90\u001b[39m     last=row[\u001b[33m\"\u001b[39m\u001b[33mLAST\u001b[39m\u001b[33m\"\u001b[39m],\n\u001b[32m     91\u001b[39m     marital=row[\u001b[33m\"\u001b[39m\u001b[33mMARITAL\u001b[39m\u001b[33m\"\u001b[39m],\n\u001b[32m     92\u001b[39m     race=row[\u001b[33m\"\u001b[39m\u001b[33mRACE\u001b[39m\u001b[33m\"\u001b[39m],\n\u001b[32m     93\u001b[39m     ethnicity=row[\u001b[33m\"\u001b[39m\u001b[33mETHNICITY\u001b[39m\u001b[33m\"\u001b[39m],\n\u001b[32m     94\u001b[39m     gender=row[\u001b[33m\"\u001b[39m\u001b[33mGENDER\u001b[39m\u001b[33m\"\u001b[39m],\n\u001b[32m     95\u001b[39m     birthplace=row[\u001b[33m\"\u001b[39m\u001b[33mBIRTHPLACE\u001b[39m\u001b[33m\"\u001b[39m],\n\u001b[32m     96\u001b[39m     address=row[\u001b[33m\"\u001b[39m\u001b[33mADDRESS\u001b[39m\u001b[33m\"\u001b[39m],\n\u001b[32m     97\u001b[39m     city=row[\u001b[33m\"\u001b[39m\u001b[33mCITY\u001b[39m\u001b[33m\"\u001b[39m],\n\u001b[32m     98\u001b[39m     state=row[\u001b[33m\"\u001b[39m\u001b[33mSTATE\u001b[39m\u001b[33m\"\u001b[39m],\n\u001b[32m     99\u001b[39m     county=row[\u001b[33m\"\u001b[39m\u001b[33mCOUNTY\u001b[39m\u001b[33m\"\u001b[39m],\n\u001b[32m    100\u001b[39m     deathdate=parse_date(row[\u001b[33m\"\u001b[39m\u001b[33mDEATHDATE\u001b[39m\u001b[33m\"\u001b[39m]),\n\u001b[32m    101\u001b[39m     drivers=\u001b[38;5;28;01mNone\u001b[39;00m \u001b[38;5;28;01mif\u001b[39;00m pd.isna(row[\u001b[33m\"\u001b[39m\u001b[33mDRIVERS\u001b[39m\u001b[33m\"\u001b[39m]) \u001b[38;5;28;01melse\u001b[39;00m row[\u001b[33m\"\u001b[39m\u001b[33mDRIVERS\u001b[39m\u001b[33m\"\u001b[39m],\n\u001b[32m    102\u001b[39m     passport=\u001b[38;5;28;01mNone\u001b[39;00m \u001b[38;5;28;01mif\u001b[39;00m pd.isna(row[\u001b[33m\"\u001b[39m\u001b[33mPASSPORT\u001b[39m\u001b[33m\"\u001b[39m]) \u001b[38;5;28;01melse\u001b[39;00m row[\u001b[33m\"\u001b[39m\u001b[33mPASSPORT\u001b[39m\u001b[33m\"\u001b[39m],\n\u001b[32m    103\u001b[39m     prefix=\u001b[38;5;28;01mNone\u001b[39;00m \u001b[38;5;28;01mif\u001b[39;00m pd.isna(row[\u001b[33m\"\u001b[39m\u001b[33mPREFIX\u001b[39m\u001b[33m\"\u001b[39m]) \u001b[38;5;28;01melse\u001b[39;00m row[\u001b[33m\"\u001b[39m\u001b[33mPREFIX\u001b[39m\u001b[33m\"\u001b[39m],\n\u001b[32m    104\u001b[39m     suffix=\u001b[38;5;28;01mNone\u001b[39;00m \u001b[38;5;28;01mif\u001b[39;00m pd.isna(row[\u001b[33m\"\u001b[39m\u001b[33mSUFFIX\u001b[39m\u001b[33m\"\u001b[39m]) \u001b[38;5;28;01melse\u001b[39;00m row[\u001b[33m\"\u001b[39m\u001b[33mSUFFIX\u001b[39m\u001b[33m\"\u001b[39m],\n\u001b[32m    105\u001b[39m     maiden=\u001b[38;5;28;01mNone\u001b[39;00m \u001b[38;5;28;01mif\u001b[39;00m pd.isna(row[\u001b[33m\"\u001b[39m\u001b[33mMAIDEN\u001b[39m\u001b[33m\"\u001b[39m]) \u001b[38;5;28;01melse\u001b[39;00m row[\u001b[33m\"\u001b[39m\u001b[33mMAIDEN\u001b[39m\u001b[33m\"\u001b[39m],\n\u001b[32m    106\u001b[39m     \u001b[38;5;28mzip\u001b[39m=\u001b[38;5;28;01mNone\u001b[39;00m \u001b[38;5;28;01mif\u001b[39;00m pd.isna(row[\u001b[33m\"\u001b[39m\u001b[33mZIP\u001b[39m\u001b[33m\"\u001b[39m]) \u001b[38;5;28;01melse\u001b[39;00m \u001b[38;5;28mstr\u001b[39m(\u001b[38;5;28mint\u001b[39m(row[\u001b[33m\"\u001b[39m\u001b[33mZIP\u001b[39m\u001b[33m\"\u001b[39m])),\n\u001b[32m    107\u001b[39m     lat=\u001b[38;5;28mfloat\u001b[39m(row[\u001b[33m\"\u001b[39m\u001b[33mLAT\u001b[39m\u001b[33m\"\u001b[39m]),\n\u001b[32m    108\u001b[39m     lon=\u001b[38;5;28mfloat\u001b[39m(row[\u001b[33m\"\u001b[39m\u001b[33mLON\u001b[39m\u001b[33m\"\u001b[39m]),\n\u001b[32m    109\u001b[39m     healthcare_expenses=\u001b[38;5;28mfloat\u001b[39m(row[\u001b[33m\"\u001b[39m\u001b[33mHEALTHCARE_EXPENSES\u001b[39m\u001b[33m\"\u001b[39m]),\n\u001b[32m    110\u001b[39m     healthcare_coverage=\u001b[38;5;28mfloat\u001b[39m(row[\u001b[33m\"\u001b[39m\u001b[33mHEALTHCARE_COVERAGE\u001b[39m\u001b[33m\"\u001b[39m]),\n\u001b[32m    111\u001b[39m )\n",
      "\u001b[36mFile \u001b[39m\u001b[32mc:\\scm\\dspy_tut\\utils.py:77\u001b[39m, in \u001b[36mparse_date\u001b[39m\u001b[34m(date_str)\u001b[39m\n\u001b[32m     75\u001b[39m \u001b[38;5;66;03m# Parse date string in format YYYY-MM-DD\u001b[39;00m\n\u001b[32m     76\u001b[39m \u001b[38;5;28mprint\u001b[39m(date_str)\n\u001b[32m---> \u001b[39m\u001b[32m77\u001b[39m year, month, day = \u001b[43mdate_str\u001b[49m\u001b[43m.\u001b[49m\u001b[43msplit\u001b[49m(\u001b[33m\"\u001b[39m\u001b[33m-\u001b[39m\u001b[33m\"\u001b[39m)\n\u001b[32m     78\u001b[39m \u001b[38;5;28;01mreturn\u001b[39;00m Date(year=\u001b[38;5;28mint\u001b[39m(year), month=\u001b[38;5;28mint\u001b[39m(month), day=\u001b[38;5;28mint\u001b[39m(day))\n",
      "\u001b[31mAttributeError\u001b[39m: 'dict' object has no attribute 'split'"
     ]
    }
   ],
   "source": [
    "class PatientProfileNarrator(dspy.Signature):\n",
    "    \"\"\"Reads a structured patient profile and narrates it as a medical professional would do in the context of a conversation with a colleague. The narrator wants to give a concise summary of the patient profile, focusing on the most relevant attributes for a medical professional in a clinical setting. The colleague should be able to use the information for generating a medical report or for further analysis of the patient profile.\"\"\"\n",
    "\n",
    "    patient_profile: utils.PatientProfile = dspy.InputField(\n",
    "        desc=\"A structured patient profile from the EHR system. The profile includes relevant attributes like name, gender, birthdate etc. but also attributes that might not be relevant for the conversation like social security number. Some attributes like Address may only be relevant if it is something unusual like homelessness or if its in a tropical country for example.\")\n",
    "\n",
    "    narrative: str = dspy.OutputField(desc=\"The narrative summary of the patient profile.\")\n",
    "\n",
    "narrator = dspy.ChainOfThought(PatientProfileNarrator)\n",
    "# sample a line from dataframes[\"patients\"]\n",
    "sample_patient = dataframes[\"patients\"].sample().iloc[0]\n",
    "patient_profile = utils.row_to_patient_profile(\n",
    "    sample_patient\n",
    ")\n",
    "narrative = narrator(patient_profile=patient_profile).narrative\n",
    "print(narrative)\n"
   ]
  },
  {
   "cell_type": "code",
   "execution_count": null,
   "id": "48ec67b6",
   "metadata": {},
   "outputs": [],
   "source": []
  }
 ],
 "metadata": {
  "kernelspec": {
   "display_name": ".venv",
   "language": "python",
   "name": "python3"
  },
  "language_info": {
   "codemirror_mode": {
    "name": "ipython",
    "version": 3
   },
   "file_extension": ".py",
   "mimetype": "text/x-python",
   "name": "python",
   "nbconvert_exporter": "python",
   "pygments_lexer": "ipython3",
   "version": "3.13.7"
  }
 },
 "nbformat": 4,
 "nbformat_minor": 5
}
