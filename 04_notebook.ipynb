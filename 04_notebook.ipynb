{
 "cells": [
  {
   "cell_type": "markdown",
   "id": "84d2dc4f",
   "metadata": {},
   "source": [
    "# Document Generation with DSPy"
   ]
  },
  {
   "cell_type": "code",
   "execution_count": 10,
   "id": "2acfc372",
   "metadata": {},
   "outputs": [
    {
     "data": {
      "text/plain": [
       "'Hello, world!'"
      ]
     },
     "execution_count": 10,
     "metadata": {},
     "output_type": "execute_result"
    }
   ],
   "source": [
    "from pathlib import Path\n",
    "import pandas as pd\n",
    "from dotenv import load_dotenv\n",
    "import mlflow\n",
    "import dspy\n",
    "import random\n",
    "import utils\n",
    "assert(load_dotenv())\n",
    "random.seed(313)\n",
    "dspy.configure(lm=dspy.LM(\"openai/gpt-5\", temperature=1.0, max_tokens=16000))\n",
    "mlflow.set_tracking_uri(\"http://localhost:5000\")\n",
    "mlflow.set_experiment(\"Astrik Doc Gen\")\n",
    "mlflow.dspy.autolog(log_evals=True, log_compiles=True, log_traces_from_compile=True)\n",
    "utils.hello_world()"
   ]
  },
  {
   "cell_type": "markdown",
   "id": "d46dc619",
   "metadata": {
    "vscode": {
     "languageId": "plaintext"
    }
   },
   "source": [
    "Load Synthea Data"
   ]
  },
  {
   "cell_type": "code",
   "execution_count": 11,
   "id": "a0cbd871",
   "metadata": {},
   "outputs": [],
   "source": [
    "data_dir = Path(\"data/synthea\")\n",
    "dataframes = {csv_file.stem: pd.read_csv(csv_file, header=0) for csv_file in data_dir.glob(\"*.csv\")}\n",
    "\n",
    "#for key, df in dataframes.items():\n",
    "#    print(f\"{key}:\\t{sorted(df.columns.tolist())}\")\n"
   ]
  },
  {
   "cell_type": "code",
   "execution_count": null,
   "id": "ba3c9c66",
   "metadata": {},
   "outputs": [
    {
     "name": "stdout",
     "output_type": "stream",
     "text": [
      "Patient: Mr. José Eduardo181 Gómez206\n",
      "Birthdate: 1989-05-25\n",
      "Alive: True\n",
      "\n",
      "Full profile:\n",
      "{\n",
      "  \"id\": \"1d604da9-9a81-4ba9-80c2-de3375d59b40\",\n",
      "  \"birthdate\": {\n",
      "    \"year\": 1989,\n",
      "    \"month\": 5,\n",
      "    \"day\": 25\n",
      "  },\n",
      "  \"ssn\": \"999-76-6866\",\n",
      "  \"first\": \"José Eduardo181\",\n",
      "  \"last\": \"Gómez206\",\n",
      "  \"race\": \"white\",\n",
      "  \"ethnicity\": \"hispanic\",\n",
      "  \"gender\": \"M\",\n",
      "  \"birthplace\": \"Marigot  Saint Andrew Parish  DM\",\n",
      "  \"address\": \"427 Balistreri Way Unit 19\",\n",
      "  \"city\": \"Chicopee\",\n",
      "  \"state\": \"Massachusetts\",\n",
      "  \"county\": \"Hampden County\",\n",
      "  \"deathdate\": null,\n",
      "  \"drivers\": \"S99984236\",\n",
      "  \"passport\": \"X19277260X\",\n",
      "  \"prefix\": \"Mr.\",\n",
      "  \"suffix\": null,\n",
      "  \"maiden\": null,\n",
      "  \"zip\": \"1013\",\n",
      "  \"marital\": \"M\",\n",
      "  \"lat\": 42.22835382315942,\n",
      "  \"lon\": -72.56295055096882,\n",
      "  \"healthcare_expenses\": 271227.08,\n",
      "  \"healthcare_coverage\": 1334.88\n",
      "}\n"
     ]
    }
   ],
   "source": [
    "\n",
    "\n",
    "# Load the first patient as an example\n",
    "first_patient = utils.PatientProfile.from_row(dataframes[\"patients\"].iloc[0])\n",
    "print(f\"Patient: {first_patient.prefix} {first_patient.first} {first_patient.last}\")\n",
    "print(f\"Birthdate: {first_patient.birthdate.year}-{first_patient.birthdate.month:02d}-{first_patient.birthdate.day:02d}\")\n",
    "print(f\"Alive: {first_patient.deathdate is None}\")\n",
    "print(f\"\\nFull profile:\")\n",
    "print(first_patient.model_dump_json(indent=2))"
   ]
  },
  {
   "cell_type": "markdown",
   "id": "6be05931",
   "metadata": {},
   "source": [
    "#### Patient Profile Narrator"
   ]
  },
  {
   "cell_type": "code",
   "execution_count": null,
   "id": "29398374",
   "metadata": {},
   "outputs": [
    {
     "name": "stderr",
     "output_type": "stream",
     "text": [
      "2025/10/24 20:43:26 WARNING mlflow.tracing.export.mlflow_v3: Failed to send trace to MLflow backend: API request to http://localhost:5000/api/3.0/mlflow/traces failed with exception HTTPConnectionPool(host='localhost', port=5000): Max retries exceeded with url: /api/3.0/mlflow/traces (Caused by ResponseError('too many 500 error responses'))\n"
     ]
    },
    {
     "name": "stdout",
     "output_type": "stream",
     "text": [
      "Mr. Merlin721 Breitenberg711 is a Black, non-Hispanic male, born on 1965-02-12 in Boston, Massachusetts. He resided in Easthampton, Massachusetts (Hampshire County) and was married. The patient is deceased, with a date of death of 2018-10-08 at age 53. No additional clinical information (problem list, medications, allergies, or past medical/surgical history) is provided in this profile.\n"
     ]
    },
    {
     "data": {
      "text/html": [
       "\n",
       "<div>\n",
       "  <style scoped>\n",
       "  button {\n",
       "    border: none;\n",
       "    border-radius: 4px;\n",
       "    background-color: rgb(34, 114, 180);\n",
       "    font-family: -apple-system, \"system-ui\", \"Segoe UI\", Roboto, \"Helvetica Neue\", Arial;\n",
       "    font-size: 13px;\n",
       "    color: white;\n",
       "    margin-top: 8px;\n",
       "    margin-bottom: 8px;\n",
       "    padding: 8px 16px;\n",
       "    cursor: pointer;\n",
       "  }\n",
       "  button:hover {\n",
       "    background-color: rgb(66, 153, 224);\n",
       "  }\n",
       "  </style>\n",
       "  <button\n",
       "    onclick=\"\n",
       "        const display = this.nextElementSibling.style.display;\n",
       "        const isCollapsed = display === 'none';\n",
       "        this.nextElementSibling.style.display = isCollapsed ? null : 'none';\n",
       "\n",
       "        const verb = isCollapsed ? 'Collapse' : 'Expand';\n",
       "        this.innerText = `${verb} MLflow Trace`;\n",
       "    \"\n",
       "  >Collapse MLflow Trace</button>\n",
       "  <iframe\n",
       "    id=\"trace-renderer\"\n",
       "    style=\"width: 100%; height: 500px; border: none; resize: vertical;\"\n",
       "    src=\"http://localhost:5000/static-files/lib/notebook-trace-renderer/index.html?trace_id=tr-7a38bdf46d3f03d2aac4971ef826399a&amp;experiment_id=656328010275947459&amp;version=3.5.1\"\n",
       "  />\n",
       "</div>\n"
      ],
      "text/plain": [
       "Trace(trace_id=tr-7a38bdf46d3f03d2aac4971ef826399a)"
      ]
     },
     "metadata": {},
     "output_type": "display_data"
    }
   ],
   "source": [
    "class PatientProfileNarrator(dspy.Signature):\n",
    "    \"\"\"Reads a structured patient profile and narrates it as a medical professional would do in the context of a conversation with a colleague. The narrator wants to give a concise summary of the patient profile, focusing on the most relevant attributes for a medical professional in a clinical setting. The colleague should be able to use the information for generating a medical report or for further analysis of the patient profile.\"\"\"\n",
    "\n",
    "    patient_profile: utils.PatientProfile = dspy.InputField(\n",
    "        desc=\"A structured patient profile from the EHR system. The profile includes relevant attributes like name, gender, birthdate etc. but also attributes that might not be relevant for the conversation like social security number. Some attributes like Address may only be relevant if it is something unusual like homelessness or if its in a tropical country for example.\")\n",
    "\n",
    "    narrative: str = dspy.OutputField(desc=\"The narrative summary of the patient profile.\")\n",
    "\n",
    "narrator = dspy.ChainOfThought(PatientProfileNarrator)\n",
    "# sample a line from dataframes[\"patients\"]\n",
    "sample_patient = dataframes[\"patients\"].sample().iloc[0]\n",
    "patient_profile = utils.PatientProfile.from_row(\n",
    "    sample_patient\n",
    ")\n",
    "narrative = narrator(patient_profile=patient_profile).narrative\n",
    "print(narrative)\n"
   ]
  },
  {
   "cell_type": "markdown",
   "id": "e6f1d090",
   "metadata": {},
   "source": [
    "#### Encounter Narrator"
   ]
  },
  {
   "cell_type": "code",
   "execution_count": 14,
   "id": "d3c86f10",
   "metadata": {},
   "outputs": [],
   "source": [
    "sample_encounter = dataframes[\"encounters\"].sample().iloc[0]"
   ]
  },
  {
   "cell_type": "code",
   "execution_count": null,
   "id": "48ec67b6",
   "metadata": {},
   "outputs": [
    {
     "name": "stdout",
     "output_type": "stream",
     "text": [
      "2015-07-11 outpatient wellness encounter for a 14-year-old Hispanic female (Guatemala-born, residing in Lowell, MA), presenting for a routine well-child visit. The encounter lasted approximately 15 minutes (18:46–19:01). No chief complaint or acute concerns documented; reason for visit denoted as preventive care only. No additional procedures, tests, or immunizations are recorded in this encounter entry. Total charge was $129.16, fully covered by the payer; no patient responsibility documented.\n"
     ]
    },
    {
     "data": {
      "text/html": [
       "\n",
       "<div>\n",
       "  <style scoped>\n",
       "  button {\n",
       "    border: none;\n",
       "    border-radius: 4px;\n",
       "    background-color: rgb(34, 114, 180);\n",
       "    font-family: -apple-system, \"system-ui\", \"Segoe UI\", Roboto, \"Helvetica Neue\", Arial;\n",
       "    font-size: 13px;\n",
       "    color: white;\n",
       "    margin-top: 8px;\n",
       "    margin-bottom: 8px;\n",
       "    padding: 8px 16px;\n",
       "    cursor: pointer;\n",
       "  }\n",
       "  button:hover {\n",
       "    background-color: rgb(66, 153, 224);\n",
       "  }\n",
       "  </style>\n",
       "  <button\n",
       "    onclick=\"\n",
       "        const display = this.nextElementSibling.style.display;\n",
       "        const isCollapsed = display === 'none';\n",
       "        this.nextElementSibling.style.display = isCollapsed ? null : 'none';\n",
       "\n",
       "        const verb = isCollapsed ? 'Collapse' : 'Expand';\n",
       "        this.innerText = `${verb} MLflow Trace`;\n",
       "    \"\n",
       "  >Collapse MLflow Trace</button>\n",
       "  <iframe\n",
       "    id=\"trace-renderer\"\n",
       "    style=\"width: 100%; height: 500px; border: none; resize: vertical;\"\n",
       "    src=\"http://localhost:5000/static-files/lib/notebook-trace-renderer/index.html?trace_id=tr-cef0220d3290ace680814a5ca0baa521&amp;experiment_id=656328010275947459&amp;trace_id=tr-c7e6c72cbf4bffeeffd98058c10e5da9&amp;experiment_id=656328010275947459&amp;version=3.5.1\"\n",
       "  />\n",
       "</div>\n"
      ],
      "text/plain": [
       "[Trace(trace_id=tr-cef0220d3290ace680814a5ca0baa521), Trace(trace_id=tr-c7e6c72cbf4bffeeffd98058c10e5da9)]"
      ]
     },
     "metadata": {},
     "output_type": "display_data"
    }
   ],
   "source": [
    "encounter_profile = utils.EncounterProfile.from_row(\n",
    "    sample_encounter\n",
    ")\n",
    "\n",
    "class EncounterProfileNarrator(dspy.Signature):\n",
    "    \"\"\"Reads a structured encounter profile and narrates it as a medical professional would do in the context of a conversation with a colleague. The narrator wants to give a concise summary of the encounter, focusing on the most relevant attributes for a medical professional in a clinical setting. The colleague should be able to use the information for generating a medical report or for further analysis of the encounter profile.\"\"\"\n",
    "\n",
    "    encounter_profile: utils.EncounterProfile = dspy.InputField(desc=\"A structured encounter profile from the EHR system. The profile includes relevant attributes like encounterclass, description, reasondescription etc. but also attributes that might not be relevant for the conversation like code or id. Some attributes like start and end may only be relevant in combination if it is something unusual like a very long stay.\")\n",
    "\n",
    "    patient_profile_narrative: str = dspy.InputField(desc=\"A narrative summary of the patient profile associated with the encounter.\")\n",
    "\n",
    "    narrative: str = dspy.OutputField(desc=\"The narrative summary of the encounter profile.\")\n",
    "\n",
    "\n",
    "# create patient_profile_narrative\n",
    "narrator = dspy.ChainOfThought(PatientProfileNarrator)\n",
    "# get the row from the patients dataframe where the Id matches the patient (uuid) from the encounter\n",
    "patient = dataframes[\"patients\"].loc[dataframes[\"patients\"][\"Id\"] == encounter_profile.patient].iloc[0]\n",
    "patient_profile = utils.PatientProfile.from_row(\n",
    "    patient\n",
    ")\n",
    "patient_profile_narrative = narrator(patient_profile=patient_profile).narrative\n",
    "\n",
    "\n",
    "\n",
    "narrator = dspy.ChainOfThought(EncounterProfileNarrator)\n",
    "narrative = narrator(encounter_profile=encounter_profile, patient_profile_narrative=patient_profile_narrative).narrative\n",
    "print(narrative)\n"
   ]
  },
  {
   "cell_type": "code",
   "execution_count": null,
   "id": "307a1d46",
   "metadata": {},
   "outputs": [],
   "source": []
  }
 ],
 "metadata": {
  "kernelspec": {
   "display_name": ".venv",
   "language": "python",
   "name": "python3"
  },
  "language_info": {
   "codemirror_mode": {
    "name": "ipython",
    "version": 3
   },
   "file_extension": ".py",
   "mimetype": "text/x-python",
   "name": "python",
   "nbconvert_exporter": "python",
   "pygments_lexer": "ipython3",
   "version": "3.13.7"
  }
 },
 "nbformat": 4,
 "nbformat_minor": 5
}
