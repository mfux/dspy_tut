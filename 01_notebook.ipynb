{
 "cells": [
  {
   "cell_type": "markdown",
   "id": "116afd07",
   "metadata": {},
   "source": [
    "# L2: DSPy Programming - Signatures and Modules"
   ]
  },
  {
   "cell_type": "markdown",
   "id": "c4de1c5d",
   "metadata": {},
   "source": [
    "#### Set up API key"
   ]
  },
  {
   "cell_type": "code",
   "execution_count": 43,
   "id": "125f893b",
   "metadata": {
    "collapsed": false,
    "jupyter": {
     "outputs_hidden": false,
     "source_hidden": false
    }
   },
   "outputs": [
    {
     "data": {
      "text/plain": [
       "True"
      ]
     },
     "execution_count": 43,
     "metadata": {},
     "output_type": "execute_result"
    }
   ],
   "source": [
    "from dotenv import load_dotenv\n",
    "\n",
    "load_dotenv()"
   ]
  },
  {
   "cell_type": "markdown",
   "id": "6bc9a9d3",
   "metadata": {},
   "source": [
    "#### Configure the LM"
   ]
  },
  {
   "cell_type": "code",
   "execution_count": 44,
   "id": "8b9e342d",
   "metadata": {},
   "outputs": [],
   "source": [
    "import dspy\n",
    "\n",
    "dspy.settings.configure(lm=dspy.LM(\"openai/gpt-4o-mini\"))"
   ]
  },
  {
   "cell_type": "markdown",
   "id": "7af791d8",
   "metadata": {},
   "source": [
    "### Use DSPy built-in Module to build a Sentiment Classifier"
   ]
  },
  {
   "cell_type": "code",
   "execution_count": 45,
   "id": "5b75c34c",
   "metadata": {},
   "outputs": [],
   "source": [
    "class SentimentClassifier(dspy.Signature):\n",
    "    \"\"\"Classify the Sentiment of a text\"\"\"\n",
    "\n",
    "    text: str = dspy.InputField(desc=\"input text to classify sentiment\")\n",
    "    sentiment: int = dspy.OutputField(\n",
    "        desc=\"sentiment, the higher the more positive\", ge=0, le=10\n",
    "    )"
   ]
  },
  {
   "cell_type": "code",
   "execution_count": 46,
   "id": "fc58f904",
   "metadata": {},
   "outputs": [],
   "source": [
    "str_signature = dspy.make_signature(\"text -> sentiment\")"
   ]
  },
  {
   "cell_type": "markdown",
   "id": "554c2e60",
   "metadata": {},
   "source": [
    "#### Create a module to interact with the LM"
   ]
  },
  {
   "cell_type": "code",
   "execution_count": 47,
   "id": "471284fd",
   "metadata": {},
   "outputs": [],
   "source": [
    "predict = dspy.Predict(SentimentClassifier)"
   ]
  },
  {
   "cell_type": "code",
   "execution_count": 48,
   "id": "68f75ead",
   "metadata": {},
   "outputs": [
    {
     "name": "stdout",
     "output_type": "stream",
     "text": [
      "Prediction(\n",
      "    sentiment='9'\n",
      ")\n"
     ]
    }
   ],
   "source": [
    "output = predict(text=\"I am feeling very Happy!\")\n",
    "print(output)"
   ]
  },
  {
   "cell_type": "code",
   "execution_count": 49,
   "id": "2dbffc6e",
   "metadata": {},
   "outputs": [
    {
     "name": "stdout",
     "output_type": "stream",
     "text": [
      "The sentiment is: 9\n",
      "The sentiment is: 9\n"
     ]
    }
   ],
   "source": [
    "print(f\"The sentiment is: {output.sentiment}\")\n",
    "print(f\"The sentiment is: {output['sentiment']}\")"
   ]
  },
  {
   "cell_type": "code",
   "execution_count": 50,
   "id": "018964c6",
   "metadata": {},
   "outputs": [
    {
     "name": "stdout",
     "output_type": "stream",
     "text": [
      "5\n"
     ]
    }
   ],
   "source": [
    "dspy.configure(lm=dspy.LM(\"openai/gpt-4o\"))\n",
    "print(predict(text=\"I am feeling very much Frankfurter Bahnhofsviertel\").sentiment)"
   ]
  },
  {
   "cell_type": "code",
   "execution_count": 51,
   "id": "59c4dc69",
   "metadata": {},
   "outputs": [],
   "source": [
    "dspy.configure(lm=dspy.LM(\"openai/gpt-4o-mini\"))"
   ]
  },
  {
   "cell_type": "markdown",
   "id": "e39d901f",
   "metadata": {},
   "source": [
    "#### Wait, where is my prompt?"
   ]
  },
  {
   "cell_type": "code",
   "execution_count": 52,
   "id": "3eb4b110",
   "metadata": {},
   "outputs": [
    {
     "name": "stdout",
     "output_type": "stream",
     "text": [
      "\n",
      "\n",
      "\n",
      "\n",
      "\u001b[34m[2025-10-23T15:53:35.676357]\u001b[0m\n",
      "\n",
      "\u001b[31mSystem message:\u001b[0m\n",
      "\n",
      "Your input fields are:\n",
      "1. `text` (str): input text to classify sentiment\n",
      "Your output fields are:\n",
      "1. `sentiment` (str): sentiment, the higher the more positive\n",
      "Constraints: greater than or equal to: 0, less than or equal to: 10\n",
      "All interactions will be structured in the following way, with the appropriate values filled in.\n",
      "\n",
      "Inputs will have the following structure:\n",
      "\n",
      "[[ ## text ## ]]\n",
      "{text}\n",
      "\n",
      "Outputs will be a JSON object with the following fields.\n",
      "\n",
      "{\n",
      "  \"sentiment\": \"{sentiment}\"\n",
      "}\n",
      "In adhering to this structure, your objective is: \n",
      "        Classify the Sentiment of a text\n",
      "\n",
      "\n",
      "\u001b[31mUser message:\u001b[0m\n",
      "\n",
      "[[ ## text ## ]]\n",
      "I am feeling very much Frankfurter Bahnhofsviertel\n",
      "\n",
      "Respond with a JSON object in the following order of fields: `sentiment`.\n",
      "\n",
      "\n",
      "\u001b[31mResponse:\u001b[0m\n",
      "\n",
      "\u001b[32m{\"sentiment\":\"5\"}\u001b[0m\n",
      "\n",
      "\n",
      "\n",
      "\n",
      "\n"
     ]
    }
   ],
   "source": [
    "dspy.inspect_history(n=1)"
   ]
  },
  {
   "cell_type": "markdown",
   "id": "e3f2db2d",
   "metadata": {},
   "source": [
    "#### Try a different built-in module"
   ]
  },
  {
   "cell_type": "code",
   "execution_count": 53,
   "id": "48eff7ed",
   "metadata": {},
   "outputs": [
    {
     "name": "stdout",
     "output_type": "stream",
     "text": [
      "Prediction(\n",
      "    reasoning=\"The phrase 'I am feeling much like frankfurter bahnhofsviertel' suggests a sense of confusion or disorientation, as it references a specific location known for its chaotic atmosphere. This implies a negative sentiment, as it does not convey happiness or positivity.\",\n",
      "    sentiment='3'\n",
      ")\n"
     ]
    }
   ],
   "source": [
    "cot = dspy.ChainOfThought(SentimentClassifier)\n",
    "output = cot(text=\"I am feeling much like frankfurter bahnhofsviertel\")\n",
    "print(output)"
   ]
  },
  {
   "cell_type": "code",
   "execution_count": 54,
   "id": "1a2d3abd",
   "metadata": {},
   "outputs": [],
   "source": [
    "dspy.configure(adapter=dspy.JSONAdapter())"
   ]
  },
  {
   "cell_type": "code",
   "execution_count": 55,
   "id": "bdd49ea8",
   "metadata": {},
   "outputs": [
    {
     "name": "stdout",
     "output_type": "stream",
     "text": [
      "\n",
      "\n",
      "\n",
      "\n",
      "\u001b[34m[2025-10-23T15:53:38.501554]\u001b[0m\n",
      "\n",
      "\u001b[31mSystem message:\u001b[0m\n",
      "\n",
      "Your input fields are:\n",
      "1. `text` (str): input text to classify sentiment\n",
      "Your output fields are:\n",
      "1. `reasoning` (str): \n",
      "2. `sentiment` (str): sentiment, the higher the more positive\n",
      "Constraints: greater than or equal to: 0, less than or equal to: 10\n",
      "All interactions will be structured in the following way, with the appropriate values filled in.\n",
      "\n",
      "Inputs will have the following structure:\n",
      "\n",
      "[[ ## text ## ]]\n",
      "{text}\n",
      "\n",
      "Outputs will be a JSON object with the following fields.\n",
      "\n",
      "{\n",
      "  \"reasoning\": \"{reasoning}\",\n",
      "  \"sentiment\": \"{sentiment}\"\n",
      "}\n",
      "In adhering to this structure, your objective is: \n",
      "        Classify the Sentiment of a text\n",
      "\n",
      "\n",
      "\u001b[31mUser message:\u001b[0m\n",
      "\n",
      "[[ ## text ## ]]\n",
      "I am feeling much like frankfurter bahnhofsviertel\n",
      "\n",
      "Respond with a JSON object in the following order of fields: `reasoning`, then `sentiment`.\n",
      "\n",
      "\n",
      "\u001b[31mResponse:\u001b[0m\n",
      "\n",
      "\u001b[32m{\"reasoning\":\"The phrase 'I am feeling much like frankfurter bahnhofsviertel' suggests a sense of confusion or disorientation, as it references a specific location known for its chaotic atmosphere. This implies a negative sentiment, as it does not convey happiness or positivity.\",\"sentiment\":\"3\"}\u001b[0m\n",
      "\n",
      "\n",
      "\n",
      "\n",
      "\n"
     ]
    }
   ],
   "source": [
    "dspy.inspect_history(n=1)"
   ]
  },
  {
   "cell_type": "markdown",
   "id": "df6fe9fb",
   "metadata": {},
   "source": [
    "### Build a Program with Custom Module"
   ]
  },
  {
   "cell_type": "code",
   "execution_count": 70,
   "id": "3457cb07",
   "metadata": {},
   "outputs": [],
   "source": [
    "class QuestionGenerator(dspy.Signature):\n",
    "    \"\"\"Generate a yes or no question in order to guess the celebrity name in users' mind. You can ask in general or directly guess the name if you think the signal is enough. You should never ask the same question in the past_questions\"\"\"\n",
    "\n",
    "    # Inputs\n",
    "    past_questions: list[str] = dspy.InputField(desc=\"past questions asked\")\n",
    "    past_answers: list[str] = dspy.InputField(desc=\"past answers\")\n",
    "    # Outputs\n",
    "    new_question: str = dspy.OutputField(\n",
    "        desc=\"new question that can help narrow down the celebrity name\"\n",
    "    )\n",
    "    guess_made: str = dspy.OutputField(\n",
    "        desc=\"If the new_question is the celebrity name guess, set to True, if it is still a general question, set to False\"\n",
    "    )\n",
    "\n",
    "\n",
    "class Reflection(dspy.Signature):\n",
    "    \"\"\"Provide reflection on the guessing process\"\"\"\n",
    "\n",
    "    # Inputs\n",
    "    correct_celebrity_name: str = dspy.InputField(\n",
    "        desc=\"the celebrity name in user's mind\"\n",
    "    )\n",
    "    final_guessor_question: str = dspy.InputField(\n",
    "        desc=\"the final guess or question the guessor made\"\n",
    "    )\n",
    "    past_questions: list[str] = dspy.InputField(desc=\"past questions asked\")\n",
    "    past_answers: list[str] = dspy.InputField(desc=\"past answers\")\n",
    "\n",
    "    # Outputs\n",
    "    reflection: str = dspy.OutputField(\n",
    "        desc=\"reflection on the guessing process, including what was done well and what can be improved\"\n",
    "    )\n",
    "\n",
    "\n",
    "def ask(prompt, valid_responses=(\"y\", \"n\")):\n",
    "    while True:\n",
    "        response = input(f\"{prompt} ({'/'.join(valid_responses)}): \").strip().lower()\n",
    "        if response in valid_responses:\n",
    "            return response\n",
    "        print(f\"Please enter one of: {', '.join(valid_responses)}\")\n",
    "\n",
    "\n",
    "class CelebrityGuess(dspy.Module):\n",
    "    def __init__(self, max_tries=10):\n",
    "        super().__init__()\n",
    "\n",
    "        self.question_generator = dspy.ChainOfThought(QuestionGenerator)\n",
    "        self.reflection = dspy.ChainOfThought(Reflection)\n",
    "\n",
    "        self.max_tries = 20\n",
    "\n",
    "    def forward(self):\n",
    "        past_questions = []\n",
    "        past_answers = []\n",
    "\n",
    "        correct_guess = False\n",
    "\n",
    "        for i in range(self.max_tries):\n",
    "            question = self.question_generator(\n",
    "                past_questions=past_questions, past_answers=past_answers\n",
    "            )\n",
    "            answer = str(ask(f\"{question.new_question}\").lower() == \"y\")\n",
    "            past_questions.append(question.new_question)\n",
    "            past_answers.append(answer)\n",
    "\n",
    "            if question.guess_made == \"True\" and answer == \"True\":\n",
    "                correct_guess = True\n",
    "                break\n",
    "\n",
    "        if correct_guess:\n",
    "            print(\"Yay! I got it right!\")\n",
    "        else:\n",
    "            print(\"Oops, I couldn't guess it right.\")\n",
    "\n",
    "        reflection = self.reflection(\n",
    "            correct_celebrity_name=input(\n",
    "                \"Please type in the name of the celebrity in your mind and press enter ...\"\n",
    "            ),\n",
    "            final_guessor_question=question.new_question,\n",
    "            past_questions=past_questions,\n",
    "            past_answers=past_answers,\n",
    "        )\n",
    "        print(reflection.reflection)\n"
   ]
  },
  {
   "cell_type": "code",
   "execution_count": 71,
   "id": "da902c51",
   "metadata": {},
   "outputs": [],
   "source": [
    "celebrity_guess = CelebrityGuess()"
   ]
  },
  {
   "cell_type": "code",
   "execution_count": 72,
   "id": "afb0d420",
   "metadata": {},
   "outputs": [
    {
     "name": "stdout",
     "output_type": "stream",
     "text": [
      "Oops, I couldn't guess it right.\n",
      "The guessing process was fairly systematic, with a clear focus on identifying the celebrity's profession. The initial questions effectively narrowed down the field to sports, and the distinction between individual and team sports was useful. However, the final question was too broad and did not consider the specific sport of skateboarding. In future guessing games, it would be beneficial to ask more specific questions related to the known sports of the celebrity, especially after confirming they are involved in an individual sport. This would help in making a more accurate final guess.\n"
     ]
    }
   ],
   "source": [
    "celebrity_guess()"
   ]
  },
  {
   "cell_type": "code",
   "execution_count": 73,
   "id": "65a96f42",
   "metadata": {},
   "outputs": [
    {
     "name": "stdout",
     "output_type": "stream",
     "text": [
      "\n",
      "\n",
      "\n",
      "\n",
      "\u001b[34m[2025-10-23T16:10:13.604815]\u001b[0m\n",
      "\n",
      "\u001b[31mSystem message:\u001b[0m\n",
      "\n",
      "Your input fields are:\n",
      "1. `past_questions` (str): past questions asked\n",
      "2. `past_answers` (str): past answers\n",
      "Your output fields are:\n",
      "1. `reasoning` (str): \n",
      "2. `new_question` (str): new question that can help narrow down the celebrity name\n",
      "3. `guess_made` (str): If the new_question is the celebrity name guess, set to True, if it is still a general question, set to False\n",
      "All interactions will be structured in the following way, with the appropriate values filled in.\n",
      "\n",
      "Inputs will have the following structure:\n",
      "\n",
      "[[ ## past_questions ## ]]\n",
      "{past_questions}\n",
      "\n",
      "[[ ## past_answers ## ]]\n",
      "{past_answers}\n",
      "\n",
      "Outputs will be a JSON object with the following fields.\n",
      "\n",
      "{\n",
      "  \"reasoning\": \"{reasoning}\",\n",
      "  \"new_question\": \"{new_question}\",\n",
      "  \"guess_made\": \"{guess_made}\"\n",
      "}\n",
      "In adhering to this structure, your objective is: \n",
      "        Generate a yes or no question in order to guess the celebrity name in users' mind. You can ask in general or directly guess the name if you think the signal is enough. You should never ask the same question in the past_questions\n",
      "\n",
      "\n",
      "\u001b[31mUser message:\u001b[0m\n",
      "\n",
      "[[ ## past_questions ## ]]\n",
      "[1] «Is the celebrity you are thinking of an actor or actress?»\n",
      "[2] «Is the celebrity you are thinking of primarily known for their work in music?»\n",
      "[3] «Is the celebrity you are thinking of known for their work in sports?»\n",
      "[4] «Is the celebrity you are thinking of currently active in their sport?»\n",
      "[5] «Is the celebrity you are thinking of known for playing a team sport?»\n",
      "[6] «Is the celebrity you are thinking of a tennis player?»\n",
      "[7] «Is the celebrity you are thinking of a golfer?»\n",
      "[8] «Is the celebrity you are thinking of a track and field athlete?»\n",
      "[9] «Is the celebrity you are thinking of a swimmer?»\n",
      "[10] «Is the celebrity you are thinking of a professional fighter, such as in boxing or MMA?»\n",
      "[11] «Is the celebrity you are thinking of known for an individual sport, such as gymnastics or figure skating?»\n",
      "[12] «Is the celebrity you are thinking of known for their involvement in motorsports?»\n",
      "[13] «Is the celebrity you are thinking of a gymnast?»\n",
      "[14] «Is the celebrity you are thinking of a female gymnast?»\n",
      "[15] «Is the celebrity you are thinking of a figure skater?»\n",
      "[16] «Is the celebrity you are thinking of known for their involvement in a combat sport, such as wrestling or judo?»\n",
      "[17] «Is the celebrity you are thinking of a professional dancer?»\n",
      "[18] «Is the celebrity you are thinking of a professional athlete in a sport like tennis or golf?»\n",
      "[19] «Is the celebrity you are thinking of a professional athlete in a sport like boxing or MMA?»\n",
      "\n",
      "[[ ## past_answers ## ]]\n",
      "[1] «False»\n",
      "[2] «False»\n",
      "[3] «True»\n",
      "[4] «True»\n",
      "[5] «False»\n",
      "[6] «False»\n",
      "[7] «False»\n",
      "[8] «False»\n",
      "[9] «False»\n",
      "[10] «False»\n",
      "[11] «True»\n",
      "[12] «False»\n",
      "[13] «False»\n",
      "[14] «False»\n",
      "[15] «False»\n",
      "[16] «False»\n",
      "[17] «False»\n",
      "[18] «False»\n",
      "[19] «False»\n",
      "\n",
      "Respond with a JSON object in the following order of fields: `reasoning`, then `new_question`, then `guess_made`.\n",
      "\n",
      "\n",
      "\u001b[31mResponse:\u001b[0m\n",
      "\n",
      "\u001b[32m{\"reasoning\":\"The previous questions indicate that the celebrity is known for their involvement in sports, specifically in an individual sport like gymnastics or figure skating. Since they are not a gymnast or figure skater, they might be known for another individual sport. Therefore, I will ask if they are a professional athlete in a different individual sport.\",\"new_question\":\"Is the celebrity you are thinking of a professional athlete in a sport like swimming or athletics?\",\"guess_made\":\"False\"}\u001b[0m\n",
      "\n",
      "\n",
      "\n",
      "\n",
      "\n",
      "\u001b[34m[2025-10-23T16:10:38.243551]\u001b[0m\n",
      "\n",
      "\u001b[31mSystem message:\u001b[0m\n",
      "\n",
      "Your input fields are:\n",
      "1. `correct_celebrity_name` (str): the celebrity name in user's mind\n",
      "2. `final_guessor_question` (str): the final guess or question the guessor made\n",
      "3. `past_questions` (str): past questions asked\n",
      "4. `past_answers` (str): past answers\n",
      "Your output fields are:\n",
      "1. `reasoning` (str): \n",
      "2. `reflection` (str): reflection on the guessing process, including what was done well and what can be improved\n",
      "All interactions will be structured in the following way, with the appropriate values filled in.\n",
      "\n",
      "Inputs will have the following structure:\n",
      "\n",
      "[[ ## correct_celebrity_name ## ]]\n",
      "{correct_celebrity_name}\n",
      "\n",
      "[[ ## final_guessor_question ## ]]\n",
      "{final_guessor_question}\n",
      "\n",
      "[[ ## past_questions ## ]]\n",
      "{past_questions}\n",
      "\n",
      "[[ ## past_answers ## ]]\n",
      "{past_answers}\n",
      "\n",
      "Outputs will be a JSON object with the following fields.\n",
      "\n",
      "{\n",
      "  \"reasoning\": \"{reasoning}\",\n",
      "  \"reflection\": \"{reflection}\"\n",
      "}\n",
      "In adhering to this structure, your objective is: \n",
      "        Provide reflection on the guessing process\n",
      "\n",
      "\n",
      "\u001b[31mUser message:\u001b[0m\n",
      "\n",
      "[[ ## correct_celebrity_name ## ]]\n",
      "Tony Hawk\n",
      "\n",
      "[[ ## final_guessor_question ## ]]\n",
      "Is the celebrity you are thinking of a professional athlete in a sport like swimming or athletics?\n",
      "\n",
      "[[ ## past_questions ## ]]\n",
      "[1] «Is the celebrity you are thinking of an actor or actress?»\n",
      "[2] «Is the celebrity you are thinking of primarily known for their work in music?»\n",
      "[3] «Is the celebrity you are thinking of known for their work in sports?»\n",
      "[4] «Is the celebrity you are thinking of currently active in their sport?»\n",
      "[5] «Is the celebrity you are thinking of known for playing a team sport?»\n",
      "[6] «Is the celebrity you are thinking of a tennis player?»\n",
      "[7] «Is the celebrity you are thinking of a golfer?»\n",
      "[8] «Is the celebrity you are thinking of a track and field athlete?»\n",
      "[9] «Is the celebrity you are thinking of a swimmer?»\n",
      "[10] «Is the celebrity you are thinking of a professional fighter, such as in boxing or MMA?»\n",
      "[11] «Is the celebrity you are thinking of known for an individual sport, such as gymnastics or figure skating?»\n",
      "[12] «Is the celebrity you are thinking of known for their involvement in motorsports?»\n",
      "[13] «Is the celebrity you are thinking of a gymnast?»\n",
      "[14] «Is the celebrity you are thinking of a female gymnast?»\n",
      "[15] «Is the celebrity you are thinking of a figure skater?»\n",
      "[16] «Is the celebrity you are thinking of known for their involvement in a combat sport, such as wrestling or judo?»\n",
      "[17] «Is the celebrity you are thinking of a professional dancer?»\n",
      "[18] «Is the celebrity you are thinking of a professional athlete in a sport like tennis or golf?»\n",
      "[19] «Is the celebrity you are thinking of a professional athlete in a sport like boxing or MMA?»\n",
      "[20] «Is the celebrity you are thinking of a professional athlete in a sport like swimming or athletics?»\n",
      "\n",
      "[[ ## past_answers ## ]]\n",
      "[1] «False»\n",
      "[2] «False»\n",
      "[3] «True»\n",
      "[4] «True»\n",
      "[5] «False»\n",
      "[6] «False»\n",
      "[7] «False»\n",
      "[8] «False»\n",
      "[9] «False»\n",
      "[10] «False»\n",
      "[11] «True»\n",
      "[12] «False»\n",
      "[13] «False»\n",
      "[14] «False»\n",
      "[15] «False»\n",
      "[16] «False»\n",
      "[17] «False»\n",
      "[18] «False»\n",
      "[19] «False»\n",
      "[20] «False»\n",
      "\n",
      "Respond with a JSON object in the following order of fields: `reasoning`, then `reflection`.\n",
      "\n",
      "\n",
      "\u001b[31mResponse:\u001b[0m\n",
      "\n",
      "\u001b[32m{\"reasoning\":\"The final guess question asked whether the celebrity is a professional athlete in a sport like swimming or athletics. Given that Tony Hawk is primarily known for skateboarding, which is not categorized under swimming or athletics, the answer would be false. This question was not the best choice as it did not align with the specific sport Tony Hawk is associated with, which is skateboarding, an individual sport. The previous questions had already established that the celebrity is a professional athlete and involved in an individual sport, which should have guided the guesser to ask more targeted questions about skateboarding specifically.\",\"reflection\":\"The guessing process was fairly systematic, with a clear focus on identifying the celebrity's profession. The initial questions effectively narrowed down the field to sports, and the distinction between individual and team sports was useful. However, the final question was too broad and did not consider the specific sport of skateboarding. In future guessing games, it would be beneficial to ask more specific questions related to the known sports of the celebrity, especially after confirming they are involved in an individual sport. This would help in making a more accurate final guess.\"}\u001b[0m\n",
      "\n",
      "\n",
      "\n",
      "\n",
      "\n"
     ]
    }
   ],
   "source": [
    "dspy.inspect_history(n=2)"
   ]
  },
  {
   "cell_type": "markdown",
   "id": "f4f1e006",
   "metadata": {},
   "source": [
    "#### Save and Load"
   ]
  },
  {
   "cell_type": "code",
   "execution_count": 77,
   "id": "d7a57ab0",
   "metadata": {},
   "outputs": [],
   "source": [
    "from pathlib import Path\n",
    "\n",
    "save_path = Path(\"dspy_program/celebrity.json\")\n",
    "save_path.parent.mkdir()\n",
    "save_path.touch()\n",
    "celebrity_guess.save(\"dspy_program/celebrity.json\", save_program=False)"
   ]
  },
  {
   "cell_type": "code",
   "execution_count": 79,
   "id": "d3d4d73a",
   "metadata": {},
   "outputs": [
    {
     "ename": "FileExistsError",
     "evalue": "[Errno 17] File exists: 'dspy_program/celebrity'",
     "output_type": "error",
     "traceback": [
      "\u001b[31m---------------------------------------------------------------------------\u001b[39m",
      "\u001b[31mFileExistsError\u001b[39m                           Traceback (most recent call last)",
      "\u001b[36mCell\u001b[39m\u001b[36m \u001b[39m\u001b[32mIn[79]\u001b[39m\u001b[32m, line 2\u001b[39m\n\u001b[32m      1\u001b[39m save_path = Path(\u001b[33m\"\u001b[39m\u001b[33mdspy_program/celebrity\u001b[39m\u001b[33m\"\u001b[39m)\n\u001b[32m----> \u001b[39m\u001b[32m2\u001b[39m \u001b[43msave_path\u001b[49m\u001b[43m.\u001b[49m\u001b[43mmkdir\u001b[49m\u001b[43m(\u001b[49m\u001b[43m)\u001b[49m\n\u001b[32m      3\u001b[39m celebrity_guess.save(save_path, save_program=\u001b[38;5;28;01mTrue\u001b[39;00m)\n",
      "\u001b[36mFile \u001b[39m\u001b[32m~/.local/share/uv/python/cpython-3.14.0-linux-x86_64-gnu/lib/python3.14/pathlib/__init__.py:1016\u001b[39m, in \u001b[36mPath.mkdir\u001b[39m\u001b[34m(self, mode, parents, exist_ok)\u001b[39m\n\u001b[32m   1012\u001b[39m \u001b[38;5;250m\u001b[39m\u001b[33;03m\"\"\"\u001b[39;00m\n\u001b[32m   1013\u001b[39m \u001b[33;03mCreate a new directory at this given path.\u001b[39;00m\n\u001b[32m   1014\u001b[39m \u001b[33;03m\"\"\"\u001b[39;00m\n\u001b[32m   1015\u001b[39m \u001b[38;5;28;01mtry\u001b[39;00m:\n\u001b[32m-> \u001b[39m\u001b[32m1016\u001b[39m     \u001b[43mos\u001b[49m\u001b[43m.\u001b[49m\u001b[43mmkdir\u001b[49m\u001b[43m(\u001b[49m\u001b[38;5;28;43mself\u001b[39;49m\u001b[43m,\u001b[49m\u001b[43m \u001b[49m\u001b[43mmode\u001b[49m\u001b[43m)\u001b[49m\n\u001b[32m   1017\u001b[39m \u001b[38;5;28;01mexcept\u001b[39;00m \u001b[38;5;167;01mFileNotFoundError\u001b[39;00m:\n\u001b[32m   1018\u001b[39m     \u001b[38;5;28;01mif\u001b[39;00m \u001b[38;5;129;01mnot\u001b[39;00m parents \u001b[38;5;129;01mor\u001b[39;00m \u001b[38;5;28mself\u001b[39m.parent == \u001b[38;5;28mself\u001b[39m:\n",
      "\u001b[31mFileExistsError\u001b[39m: [Errno 17] File exists: 'dspy_program/celebrity'"
     ]
    }
   ],
   "source": [
    "save_path = Path(\"dspy_program/celebrity\")\n",
    "save_path.mkdir()\n",
    "celebrity_guess.save(save_path, save_program=True)"
   ]
  }
 ],
 "metadata": {
  "kernelspec": {
   "display_name": "Python 3 (ipykernel)",
   "language": "python",
   "name": "python3"
  },
  "language_info": {
   "codemirror_mode": {
    "name": "python",
    "version": 3
   },
   "file_extension": ".py",
   "mimetype": "text/x-python",
   "name": "python",
   "nbconvert_exporter": "python",
   "pygments_lexer": "python3",
   "version": "3.14.0"
  },
  "widgets": {
   "application/vnd.jupyter.widget-state+json": {
    "state": {},
    "version_major": 2,
    "version_minor": 0
   }
  }
 },
 "nbformat": 4,
 "nbformat_minor": 5
}
